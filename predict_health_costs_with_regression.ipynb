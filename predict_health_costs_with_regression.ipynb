{
  "nbformat": 4,
  "nbformat_minor": 0,
  "metadata": {
    "colab": {
      "name": "predict_health_costs_with_regression.ipynb",
      "provenance": [],
      "collapsed_sections": [],
      "include_colab_link": true
    },
    "kernelspec": {
      "display_name": "Python 3",
      "name": "python3"
    }
  },
  "cells": [
    {
      "cell_type": "markdown",
      "metadata": {
        "id": "view-in-github",
        "colab_type": "text"
      },
      "source": [
        "<a href=\"https://colab.research.google.com/github/srividya-sundaravadivelu/Predict_Health_Costs_With_Regression/blob/main/predict_health_costs_with_regression.ipynb\" target=\"_parent\"><img src=\"https://colab.research.google.com/assets/colab-badge.svg\" alt=\"Open In Colab\"/></a>"
      ]
    },
    {
      "cell_type": "markdown",
      "metadata": {
        "id": "M9TX15KOkPBV"
      },
      "source": [
        "*Note: You are currently reading this using Google Colaboratory which is a cloud-hosted version of Jupyter Notebook. This is a document containing both text cells for documentation and runnable code cells. If you are unfamiliar with Jupyter Notebook, watch this 3-minute introduction before starting this challenge: https://www.youtube.com/watch?v=inN8seMm7UI*\n",
        "\n",
        "---\n",
        "\n",
        "In this challenge, you will predict healthcare costs using a regression algorithm.\n",
        "\n",
        "You are given a dataset that contains information about different people including their healthcare costs. Use the data to predict healthcare costs based on new data.\n",
        "\n",
        "The first two cells of this notebook import libraries and the data.\n",
        "\n",
        "Make sure to convert categorical data to numbers. Use 80% of the data as the `train_dataset` and 20% of the data as the `test_dataset`.\n",
        "\n",
        "`pop` off the \"expenses\" column from these datasets to create new datasets called `train_labels` and `test_labels`. Use these labels when training your model.\n",
        "\n",
        "Create a model and train it with the `train_dataset`. Run the final cell in this notebook to check your model. The final cell will use the unseen `test_dataset` to check how well the model generalizes.\n",
        "\n",
        "To pass the challenge, `model.evaluate` must return a Mean Absolute Error of under 3500. This means it predicts health care costs correctly within $3500.\n",
        "\n",
        "The final cell will also predict expenses using the `test_dataset` and graph the results."
      ]
    },
    {
      "cell_type": "code",
      "metadata": {
        "id": "1rRo8oNqZ-Rj"
      },
      "source": [
        "# Import libraries. You may or may not use all of these.\n",
        "!pip install -q git+https://github.com/tensorflow/docs\n",
        "import matplotlib.pyplot as plt\n",
        "import numpy as np\n",
        "import pandas as pd\n",
        "\n",
        "try:\n",
        "  # %tensorflow_version only exists in Colab.\n",
        "  %tensorflow_version 2.x\n",
        "except Exception:\n",
        "  pass\n",
        "import tensorflow as tf\n",
        "\n",
        "from tensorflow import keras\n",
        "from tensorflow.keras import layers\n",
        "\n",
        "import tensorflow_docs as tfdocs\n",
        "import tensorflow_docs.plots\n",
        "import tensorflow_docs.modeling"
      ],
      "execution_count": 1,
      "outputs": []
    },
    {
      "cell_type": "code",
      "source": [
        "import seaborn as sns"
      ],
      "metadata": {
        "id": "CKQG1v93XhTO"
      },
      "execution_count": 2,
      "outputs": []
    },
    {
      "cell_type": "code",
      "metadata": {
        "id": "CiX2FI4gZtTt",
        "colab": {
          "base_uri": "https://localhost:8080/",
          "height": 397
        },
        "outputId": "3e36db95-ae04-4a98-b7be-ca425d5a27c0"
      },
      "source": [
        "# Import data\n",
        "!wget https://cdn.freecodecamp.org/project-data/health-costs/insurance.csv\n",
        "dataset = pd.read_csv('insurance.csv')\n",
        "dataset.tail()"
      ],
      "execution_count": 3,
      "outputs": [
        {
          "output_type": "stream",
          "name": "stdout",
          "text": [
            "--2022-03-08 17:54:06--  https://cdn.freecodecamp.org/project-data/health-costs/insurance.csv\n",
            "Resolving cdn.freecodecamp.org (cdn.freecodecamp.org)... 172.67.70.149, 104.26.2.33, 104.26.3.33, ...\n",
            "Connecting to cdn.freecodecamp.org (cdn.freecodecamp.org)|172.67.70.149|:443... connected.\n",
            "HTTP request sent, awaiting response... 200 OK\n",
            "Length: 50264 (49K) [text/csv]\n",
            "Saving to: ‘insurance.csv.1’\n",
            "\n",
            "\rinsurance.csv.1       0%[                    ]       0  --.-KB/s               \rinsurance.csv.1     100%[===================>]  49.09K  --.-KB/s    in 0.001s  \n",
            "\n",
            "2022-03-08 17:54:06 (95.9 MB/s) - ‘insurance.csv.1’ saved [50264/50264]\n",
            "\n"
          ]
        },
        {
          "output_type": "execute_result",
          "data": {
            "text/html": [
              "\n",
              "  <div id=\"df-f148ca46-fbaa-4e0c-b3dd-8a2040d8ade4\">\n",
              "    <div class=\"colab-df-container\">\n",
              "      <div>\n",
              "<style scoped>\n",
              "    .dataframe tbody tr th:only-of-type {\n",
              "        vertical-align: middle;\n",
              "    }\n",
              "\n",
              "    .dataframe tbody tr th {\n",
              "        vertical-align: top;\n",
              "    }\n",
              "\n",
              "    .dataframe thead th {\n",
              "        text-align: right;\n",
              "    }\n",
              "</style>\n",
              "<table border=\"1\" class=\"dataframe\">\n",
              "  <thead>\n",
              "    <tr style=\"text-align: right;\">\n",
              "      <th></th>\n",
              "      <th>age</th>\n",
              "      <th>sex</th>\n",
              "      <th>bmi</th>\n",
              "      <th>children</th>\n",
              "      <th>smoker</th>\n",
              "      <th>region</th>\n",
              "      <th>expenses</th>\n",
              "    </tr>\n",
              "  </thead>\n",
              "  <tbody>\n",
              "    <tr>\n",
              "      <th>1333</th>\n",
              "      <td>50</td>\n",
              "      <td>male</td>\n",
              "      <td>31.0</td>\n",
              "      <td>3</td>\n",
              "      <td>no</td>\n",
              "      <td>northwest</td>\n",
              "      <td>10600.55</td>\n",
              "    </tr>\n",
              "    <tr>\n",
              "      <th>1334</th>\n",
              "      <td>18</td>\n",
              "      <td>female</td>\n",
              "      <td>31.9</td>\n",
              "      <td>0</td>\n",
              "      <td>no</td>\n",
              "      <td>northeast</td>\n",
              "      <td>2205.98</td>\n",
              "    </tr>\n",
              "    <tr>\n",
              "      <th>1335</th>\n",
              "      <td>18</td>\n",
              "      <td>female</td>\n",
              "      <td>36.9</td>\n",
              "      <td>0</td>\n",
              "      <td>no</td>\n",
              "      <td>southeast</td>\n",
              "      <td>1629.83</td>\n",
              "    </tr>\n",
              "    <tr>\n",
              "      <th>1336</th>\n",
              "      <td>21</td>\n",
              "      <td>female</td>\n",
              "      <td>25.8</td>\n",
              "      <td>0</td>\n",
              "      <td>no</td>\n",
              "      <td>southwest</td>\n",
              "      <td>2007.95</td>\n",
              "    </tr>\n",
              "    <tr>\n",
              "      <th>1337</th>\n",
              "      <td>61</td>\n",
              "      <td>female</td>\n",
              "      <td>29.1</td>\n",
              "      <td>0</td>\n",
              "      <td>yes</td>\n",
              "      <td>northwest</td>\n",
              "      <td>29141.36</td>\n",
              "    </tr>\n",
              "  </tbody>\n",
              "</table>\n",
              "</div>\n",
              "      <button class=\"colab-df-convert\" onclick=\"convertToInteractive('df-f148ca46-fbaa-4e0c-b3dd-8a2040d8ade4')\"\n",
              "              title=\"Convert this dataframe to an interactive table.\"\n",
              "              style=\"display:none;\">\n",
              "        \n",
              "  <svg xmlns=\"http://www.w3.org/2000/svg\" height=\"24px\"viewBox=\"0 0 24 24\"\n",
              "       width=\"24px\">\n",
              "    <path d=\"M0 0h24v24H0V0z\" fill=\"none\"/>\n",
              "    <path d=\"M18.56 5.44l.94 2.06.94-2.06 2.06-.94-2.06-.94-.94-2.06-.94 2.06-2.06.94zm-11 1L8.5 8.5l.94-2.06 2.06-.94-2.06-.94L8.5 2.5l-.94 2.06-2.06.94zm10 10l.94 2.06.94-2.06 2.06-.94-2.06-.94-.94-2.06-.94 2.06-2.06.94z\"/><path d=\"M17.41 7.96l-1.37-1.37c-.4-.4-.92-.59-1.43-.59-.52 0-1.04.2-1.43.59L10.3 9.45l-7.72 7.72c-.78.78-.78 2.05 0 2.83L4 21.41c.39.39.9.59 1.41.59.51 0 1.02-.2 1.41-.59l7.78-7.78 2.81-2.81c.8-.78.8-2.07 0-2.86zM5.41 20L4 18.59l7.72-7.72 1.47 1.35L5.41 20z\"/>\n",
              "  </svg>\n",
              "      </button>\n",
              "      \n",
              "  <style>\n",
              "    .colab-df-container {\n",
              "      display:flex;\n",
              "      flex-wrap:wrap;\n",
              "      gap: 12px;\n",
              "    }\n",
              "\n",
              "    .colab-df-convert {\n",
              "      background-color: #E8F0FE;\n",
              "      border: none;\n",
              "      border-radius: 50%;\n",
              "      cursor: pointer;\n",
              "      display: none;\n",
              "      fill: #1967D2;\n",
              "      height: 32px;\n",
              "      padding: 0 0 0 0;\n",
              "      width: 32px;\n",
              "    }\n",
              "\n",
              "    .colab-df-convert:hover {\n",
              "      background-color: #E2EBFA;\n",
              "      box-shadow: 0px 1px 2px rgba(60, 64, 67, 0.3), 0px 1px 3px 1px rgba(60, 64, 67, 0.15);\n",
              "      fill: #174EA6;\n",
              "    }\n",
              "\n",
              "    [theme=dark] .colab-df-convert {\n",
              "      background-color: #3B4455;\n",
              "      fill: #D2E3FC;\n",
              "    }\n",
              "\n",
              "    [theme=dark] .colab-df-convert:hover {\n",
              "      background-color: #434B5C;\n",
              "      box-shadow: 0px 1px 3px 1px rgba(0, 0, 0, 0.15);\n",
              "      filter: drop-shadow(0px 1px 2px rgba(0, 0, 0, 0.3));\n",
              "      fill: #FFFFFF;\n",
              "    }\n",
              "  </style>\n",
              "\n",
              "      <script>\n",
              "        const buttonEl =\n",
              "          document.querySelector('#df-f148ca46-fbaa-4e0c-b3dd-8a2040d8ade4 button.colab-df-convert');\n",
              "        buttonEl.style.display =\n",
              "          google.colab.kernel.accessAllowed ? 'block' : 'none';\n",
              "\n",
              "        async function convertToInteractive(key) {\n",
              "          const element = document.querySelector('#df-f148ca46-fbaa-4e0c-b3dd-8a2040d8ade4');\n",
              "          const dataTable =\n",
              "            await google.colab.kernel.invokeFunction('convertToInteractive',\n",
              "                                                     [key], {});\n",
              "          if (!dataTable) return;\n",
              "\n",
              "          const docLinkHtml = 'Like what you see? Visit the ' +\n",
              "            '<a target=\"_blank\" href=https://colab.research.google.com/notebooks/data_table.ipynb>data table notebook</a>'\n",
              "            + ' to learn more about interactive tables.';\n",
              "          element.innerHTML = '';\n",
              "          dataTable['output_type'] = 'display_data';\n",
              "          await google.colab.output.renderOutput(dataTable, element);\n",
              "          const docLink = document.createElement('div');\n",
              "          docLink.innerHTML = docLinkHtml;\n",
              "          element.appendChild(docLink);\n",
              "        }\n",
              "      </script>\n",
              "    </div>\n",
              "  </div>\n",
              "  "
            ],
            "text/plain": [
              "      age     sex   bmi  children smoker     region  expenses\n",
              "1333   50    male  31.0         3     no  northwest  10600.55\n",
              "1334   18  female  31.9         0     no  northeast   2205.98\n",
              "1335   18  female  36.9         0     no  southeast   1629.83\n",
              "1336   21  female  25.8         0     no  southwest   2007.95\n",
              "1337   61  female  29.1         0    yes  northwest  29141.36"
            ]
          },
          "metadata": {},
          "execution_count": 3
        }
      ]
    },
    {
      "cell_type": "code",
      "metadata": {
        "id": "LcopvQh3X-kX",
        "colab": {
          "base_uri": "https://localhost:8080/"
        },
        "outputId": "b7a97621-afc9-4f1e-8bbf-fdaab1c7b007"
      },
      "source": [
        "dataset.info()"
      ],
      "execution_count": 4,
      "outputs": [
        {
          "output_type": "stream",
          "name": "stdout",
          "text": [
            "<class 'pandas.core.frame.DataFrame'>\n",
            "RangeIndex: 1338 entries, 0 to 1337\n",
            "Data columns (total 7 columns):\n",
            " #   Column    Non-Null Count  Dtype  \n",
            "---  ------    --------------  -----  \n",
            " 0   age       1338 non-null   int64  \n",
            " 1   sex       1338 non-null   object \n",
            " 2   bmi       1338 non-null   float64\n",
            " 3   children  1338 non-null   int64  \n",
            " 4   smoker    1338 non-null   object \n",
            " 5   region    1338 non-null   object \n",
            " 6   expenses  1338 non-null   float64\n",
            "dtypes: float64(2), int64(2), object(3)\n",
            "memory usage: 73.3+ KB\n"
          ]
        }
      ]
    },
    {
      "cell_type": "code",
      "source": [
        "#EDA\n",
        "dataset.plot(kind='scatter', x='age', y='expenses')\n"
      ],
      "metadata": {
        "colab": {
          "base_uri": "https://localhost:8080/",
          "height": 296
        },
        "id": "vOU-bdQ7SopP",
        "outputId": "eb6a2585-a5a2-40ff-d951-16962f84498a"
      },
      "execution_count": 5,
      "outputs": [
        {
          "output_type": "execute_result",
          "data": {
            "text/plain": [
              "<matplotlib.axes._subplots.AxesSubplot at 0x7f6c6c201450>"
            ]
          },
          "metadata": {},
          "execution_count": 5
        },
        {
          "output_type": "display_data",
          "data": {
            "image/png": "[encoded data removed]",
            "text/plain": [
              "<Figure size 432x288 with 1 Axes>"
            ]
          },
          "metadata": {
            "needs_background": "light"
          }
        }
      ]
    },
    {
      "cell_type": "code",
      "source": [
        "dataset.plot(kind='scatter', x='bmi', y='expenses')"
      ],
      "metadata": {
        "colab": {
          "base_uri": "https://localhost:8080/",
          "height": 296
        },
        "id": "dnX6Ow2RVpXa",
        "outputId": "2269eca0-0a18-45a2-bde6-94ba61dfc816"
      },
      "execution_count": 6,
      "outputs": [
        {
          "output_type": "execute_result",
          "data": {
            "text/plain": [
              "<matplotlib.axes._subplots.AxesSubplot at 0x7f6c6c0f47d0>"
            ]
          },
          "metadata": {},
          "execution_count": 6
        },
        {
          "output_type": "display_data",
          "data": {
            "image/png": "[encoded data removed]",
            "text/plain": [
              "<Figure size 432x288 with 1 Axes>"
            ]
          },
          "metadata": {
            "needs_background": "light"
          }
        }
      ]
    },
    {
      "cell_type": "code",
      "source": [
        "sns.boxplot(x=\"smoker\", y=\"expenses\", data=dataset)\n",
        "plt.show()\n"
      ],
      "metadata": {
        "colab": {
          "base_uri": "https://localhost:8080/",
          "height": 279
        },
        "id": "GB7QTYpBXaXB",
        "outputId": "95c8c93d-47a7-4fd2-af61-4ca6f8551b35"
      },
      "execution_count": 7,
      "outputs": [
        {
          "output_type": "display_data",
          "data": {
            "image/png": "[encoded data removed]",
            "text/plain": [
              "<Figure size 432x288 with 1 Axes>"
            ]
          },
          "metadata": {
            "needs_background": "light"
          }
        }
      ]
    },
    {
      "cell_type": "code",
      "source": [
        "sns.boxplot(x=\"sex\", y=\"expenses\", data=dataset)\n",
        "plt.show()"
      ],
      "metadata": {
        "colab": {
          "base_uri": "https://localhost:8080/",
          "height": 279
        },
        "id": "sJgwaIAeYUNc",
        "outputId": "ee1afc4b-5511-4750-8eb4-5fd5066d9d42"
      },
      "execution_count": 8,
      "outputs": [
        {
          "output_type": "display_data",
          "data": {
            "image/png": "[encoded data removed]",
            "text/plain": [
              "<Figure size 432x288 with 1 Axes>"
            ]
          },
          "metadata": {
            "needs_background": "light"
          }
        }
      ]
    },
    {
      "cell_type": "code",
      "source": [
        "sns.boxplot(x=\"children\", y=\"expenses\", data=dataset)\n",
        "plt.show()"
      ],
      "metadata": {
        "colab": {
          "base_uri": "https://localhost:8080/",
          "height": 279
        },
        "id": "e4P202GDaD1I",
        "outputId": "c9236069-9176-44f0-d872-ec6b1a7e0e4c"
      },
      "execution_count": 9,
      "outputs": [
        {
          "output_type": "display_data",
          "data": {
            "image/png": "[encoded data removed]",
            "text/plain": [
              "<Figure size 432x288 with 1 Axes>"
            ]
          },
          "metadata": {
            "needs_background": "light"
          }
        }
      ]
    },
    {
      "cell_type": "code",
      "source": [
        "sns.boxplot(x=\"region\", y=\"expenses\", data=dataset)\n",
        "plt.show()"
      ],
      "metadata": {
        "colab": {
          "base_uri": "https://localhost:8080/",
          "height": 279
        },
        "id": "1AJMq_kCYhU4",
        "outputId": "48361c50-d238-44c4-df33-8ad3051ec222"
      },
      "execution_count": 10,
      "outputs": [
        {
          "output_type": "display_data",
          "data": {
            "image/png": "[encoded data removed]",
            "text/plain": [
              "<Figure size 432x288 with 1 Axes>"
            ]
          },
          "metadata": {
            "needs_background": "light"
          }
        }
      ]
    },
    {
      "cell_type": "code",
      "source": [
        "plt.hist(dataset['age'])"
      ],
      "metadata": {
        "colab": {
          "base_uri": "https://localhost:8080/",
          "height": 317
        },
        "id": "h-8YTUk6WAMK",
        "outputId": "d79515de-ee5f-4885-9cad-fff61d00348f"
      },
      "execution_count": 11,
      "outputs": [
        {
          "output_type": "execute_result",
          "data": {
            "text/plain": [
              "(array([222., 140., 109., 128., 102., 137., 144., 114., 128., 114.]),\n",
              " array([18. , 22.6, 27.2, 31.8, 36.4, 41. , 45.6, 50.2, 54.8, 59.4, 64. ]),\n",
              " <a list of 10 Patch objects>)"
            ]
          },
          "metadata": {},
          "execution_count": 11
        },
        {
          "output_type": "display_data",
          "data": {
            "image/png": "[encoded data removed]",
            "text/plain": [
              "<Figure size 432x288 with 1 Axes>"
            ]
          },
          "metadata": {
            "needs_background": "light"
          }
        }
      ]
    },
    {
      "cell_type": "code",
      "source": [
        "plt.hist(dataset['bmi'])"
      ],
      "metadata": {
        "colab": {
          "base_uri": "https://localhost:8080/",
          "height": 334
        },
        "id": "ELu3-78TZhZA",
        "outputId": "fcd58536-93e4-41d7-9577-99c2c98968ac"
      },
      "execution_count": 12,
      "outputs": [
        {
          "output_type": "execute_result",
          "data": {
            "text/plain": [
              "(array([ 30., 129., 232., 319., 288., 195.,  96.,  32.,  14.,   3.]),\n",
              " array([16.  , 19.71, 23.42, 27.13, 30.84, 34.55, 38.26, 41.97, 45.68,\n",
              "        49.39, 53.1 ]),\n",
              " <a list of 10 Patch objects>)"
            ]
          },
          "metadata": {},
          "execution_count": 12
        },
        {
          "output_type": "display_data",
          "data": {
            "image/png": "[encoded data removed]",
            "text/plain": [
              "<Figure size 432x288 with 1 Axes>"
            ]
          },
          "metadata": {
            "needs_background": "light"
          }
        }
      ]
    },
    {
      "cell_type": "code",
      "source": [
        "plt.hist(dataset['children'])"
      ],
      "metadata": {
        "colab": {
          "base_uri": "https://localhost:8080/",
          "height": 320
        },
        "id": "ryb_SunLZzKj",
        "outputId": "8d7b348c-aeee-421b-d80c-4008e35cf7a6"
      },
      "execution_count": 13,
      "outputs": [
        {
          "output_type": "execute_result",
          "data": {
            "text/plain": [
              "(array([574.,   0., 324.,   0., 240.,   0., 157.,   0.,  25.,  18.]),\n",
              " array([0. , 0.5, 1. , 1.5, 2. , 2.5, 3. , 3.5, 4. , 4.5, 5. ]),\n",
              " <a list of 10 Patch objects>)"
            ]
          },
          "metadata": {},
          "execution_count": 13
        },
        {
          "output_type": "display_data",
          "data": {
            "image/png": "[encoded data removed]",
            "text/plain": [
              "<Figure size 432x288 with 1 Axes>"
            ]
          },
          "metadata": {
            "needs_background": "light"
          }
        }
      ]
    },
    {
      "cell_type": "code",
      "source": [
        "from sklearn.preprocessing import LabelEncoder\n",
        "labelEncoder = LabelEncoder()\n",
        "dataset[\"sex\"] = labelEncoder.fit_transform(dataset[\"sex\"])\n",
        "dataset[\"smoker\"] = labelEncoder.fit_transform(dataset[\"smoker\"])\n",
        "dataset[\"region\"] = labelEncoder.fit_transform(dataset[\"region\"])"
      ],
      "metadata": {
        "id": "g361MEuFecjh"
      },
      "execution_count": 14,
      "outputs": []
    },
    {
      "cell_type": "code",
      "source": [
        "X = dataset.iloc[:,:6]\n",
        "X"
      ],
      "metadata": {
        "colab": {
          "base_uri": "https://localhost:8080/",
          "height": 423
        },
        "id": "zZEBO5vLaMME",
        "outputId": "f3800cb7-2055-44af-a275-d4f6c8af4153"
      },
      "execution_count": 15,
      "outputs": [
        {
          "output_type": "execute_result",
          "data": {
            "text/html": [
              "\n",
              "  <div id=\"df-30b1f67f-a063-4ac2-a8ba-87bf23276403\">\n",
              "    <div class=\"colab-df-container\">\n",
              "      <div>\n",
              "<style scoped>\n",
              "    .dataframe tbody tr th:only-of-type {\n",
              "        vertical-align: middle;\n",
              "    }\n",
              "\n",
              "    .dataframe tbody tr th {\n",
              "        vertical-align: top;\n",
              "    }\n",
              "\n",
              "    .dataframe thead th {\n",
              "        text-align: right;\n",
              "    }\n",
              "</style>\n",
              "<table border=\"1\" class=\"dataframe\">\n",
              "  <thead>\n",
              "    <tr style=\"text-align: right;\">\n",
              "      <th></th>\n",
              "      <th>age</th>\n",
              "      <th>sex</th>\n",
              "      <th>bmi</th>\n",
              "      <th>children</th>\n",
              "      <th>smoker</th>\n",
              "      <th>region</th>\n",
              "    </tr>\n",
              "  </thead>\n",
              "  <tbody>\n",
              "    <tr>\n",
              "      <th>0</th>\n",
              "      <td>19</td>\n",
              "      <td>0</td>\n",
              "      <td>27.9</td>\n",
              "      <td>0</td>\n",
              "      <td>1</td>\n",
              "      <td>3</td>\n",
              "    </tr>\n",
              "    <tr>\n",
              "      <th>1</th>\n",
              "      <td>18</td>\n",
              "      <td>1</td>\n",
              "      <td>33.8</td>\n",
              "      <td>1</td>\n",
              "      <td>0</td>\n",
              "      <td>2</td>\n",
              "    </tr>\n",
              "    <tr>\n",
              "      <th>2</th>\n",
              "      <td>28</td>\n",
              "      <td>1</td>\n",
              "      <td>33.0</td>\n",
              "      <td>3</td>\n",
              "      <td>0</td>\n",
              "      <td>2</td>\n",
              "    </tr>\n",
              "    <tr>\n",
              "      <th>3</th>\n",
              "      <td>33</td>\n",
              "      <td>1</td>\n",
              "      <td>22.7</td>\n",
              "      <td>0</td>\n",
              "      <td>0</td>\n",
              "      <td>1</td>\n",
              "    </tr>\n",
              "    <tr>\n",
              "      <th>4</th>\n",
              "      <td>32</td>\n",
              "      <td>1</td>\n",
              "      <td>28.9</td>\n",
              "      <td>0</td>\n",
              "      <td>0</td>\n",
              "      <td>1</td>\n",
              "    </tr>\n",
              "    <tr>\n",
              "      <th>...</th>\n",
              "      <td>...</td>\n",
              "      <td>...</td>\n",
              "      <td>...</td>\n",
              "      <td>...</td>\n",
              "      <td>...</td>\n",
              "      <td>...</td>\n",
              "    </tr>\n",
              "    <tr>\n",
              "      <th>1333</th>\n",
              "      <td>50</td>\n",
              "      <td>1</td>\n",
              "      <td>31.0</td>\n",
              "      <td>3</td>\n",
              "      <td>0</td>\n",
              "      <td>1</td>\n",
              "    </tr>\n",
              "    <tr>\n",
              "      <th>1334</th>\n",
              "      <td>18</td>\n",
              "      <td>0</td>\n",
              "      <td>31.9</td>\n",
              "      <td>0</td>\n",
              "      <td>0</td>\n",
              "      <td>0</td>\n",
              "    </tr>\n",
              "    <tr>\n",
              "      <th>1335</th>\n",
              "      <td>18</td>\n",
              "      <td>0</td>\n",
              "      <td>36.9</td>\n",
              "      <td>0</td>\n",
              "      <td>0</td>\n",
              "      <td>2</td>\n",
              "    </tr>\n",
              "    <tr>\n",
              "      <th>1336</th>\n",
              "      <td>21</td>\n",
              "      <td>0</td>\n",
              "      <td>25.8</td>\n",
              "      <td>0</td>\n",
              "      <td>0</td>\n",
              "      <td>3</td>\n",
              "    </tr>\n",
              "    <tr>\n",
              "      <th>1337</th>\n",
              "      <td>61</td>\n",
              "      <td>0</td>\n",
              "      <td>29.1</td>\n",
              "      <td>0</td>\n",
              "      <td>1</td>\n",
              "      <td>1</td>\n",
              "    </tr>\n",
              "  </tbody>\n",
              "</table>\n",
              "<p>1338 rows × 6 columns</p>\n",
              "</div>\n",
              "      <button class=\"colab-df-convert\" onclick=\"convertToInteractive('df-30b1f67f-a063-4ac2-a8ba-87bf23276403')\"\n",
              "              title=\"Convert this dataframe to an interactive table.\"\n",
              "              style=\"display:none;\">\n",
              "        \n",
              "  <svg xmlns=\"http://www.w3.org/2000/svg\" height=\"24px\"viewBox=\"0 0 24 24\"\n",
              "       width=\"24px\">\n",
              "    <path d=\"M0 0h24v24H0V0z\" fill=\"none\"/>\n",
              "    <path d=\"M18.56 5.44l.94 2.06.94-2.06 2.06-.94-2.06-.94-.94-2.06-.94 2.06-2.06.94zm-11 1L8.5 8.5l.94-2.06 2.06-.94-2.06-.94L8.5 2.5l-.94 2.06-2.06.94zm10 10l.94 2.06.94-2.06 2.06-.94-2.06-.94-.94-2.06-.94 2.06-2.06.94z\"/><path d=\"M17.41 7.96l-1.37-1.37c-.4-.4-.92-.59-1.43-.59-.52 0-1.04.2-1.43.59L10.3 9.45l-7.72 7.72c-.78.78-.78 2.05 0 2.83L4 21.41c.39.39.9.59 1.41.59.51 0 1.02-.2 1.41-.59l7.78-7.78 2.81-2.81c.8-.78.8-2.07 0-2.86zM5.41 20L4 18.59l7.72-7.72 1.47 1.35L5.41 20z\"/>\n",
              "  </svg>\n",
              "      </button>\n",
              "      \n",
              "  <style>\n",
              "    .colab-df-container {\n",
              "      display:flex;\n",
              "      flex-wrap:wrap;\n",
              "      gap: 12px;\n",
              "    }\n",
              "\n",
              "    .colab-df-convert {\n",
              "      background-color: #E8F0FE;\n",
              "      border: none;\n",
              "      border-radius: 50%;\n",
              "      cursor: pointer;\n",
              "      display: none;\n",
              "      fill: #1967D2;\n",
              "      height: 32px;\n",
              "      padding: 0 0 0 0;\n",
              "      width: 32px;\n",
              "    }\n",
              "\n",
              "    .colab-df-convert:hover {\n",
              "      background-color: #E2EBFA;\n",
              "      box-shadow: 0px 1px 2px rgba(60, 64, 67, 0.3), 0px 1px 3px 1px rgba(60, 64, 67, 0.15);\n",
              "      fill: #174EA6;\n",
              "    }\n",
              "\n",
              "    [theme=dark] .colab-df-convert {\n",
              "      background-color: #3B4455;\n",
              "      fill: #D2E3FC;\n",
              "    }\n",
              "\n",
              "    [theme=dark] .colab-df-convert:hover {\n",
              "      background-color: #434B5C;\n",
              "      box-shadow: 0px 1px 3px 1px rgba(0, 0, 0, 0.15);\n",
              "      filter: drop-shadow(0px 1px 2px rgba(0, 0, 0, 0.3));\n",
              "      fill: #FFFFFF;\n",
              "    }\n",
              "  </style>\n",
              "\n",
              "      <script>\n",
              "        const buttonEl =\n",
              "          document.querySelector('#df-30b1f67f-a063-4ac2-a8ba-87bf23276403 button.colab-df-convert');\n",
              "        buttonEl.style.display =\n",
              "          google.colab.kernel.accessAllowed ? 'block' : 'none';\n",
              "\n",
              "        async function convertToInteractive(key) {\n",
              "          const element = document.querySelector('#df-30b1f67f-a063-4ac2-a8ba-87bf23276403');\n",
              "          const dataTable =\n",
              "            await google.colab.kernel.invokeFunction('convertToInteractive',\n",
              "                                                     [key], {});\n",
              "          if (!dataTable) return;\n",
              "\n",
              "          const docLinkHtml = 'Like what you see? Visit the ' +\n",
              "            '<a target=\"_blank\" href=https://colab.research.google.com/notebooks/data_table.ipynb>data table notebook</a>'\n",
              "            + ' to learn more about interactive tables.';\n",
              "          element.innerHTML = '';\n",
              "          dataTable['output_type'] = 'display_data';\n",
              "          await google.colab.output.renderOutput(dataTable, element);\n",
              "          const docLink = document.createElement('div');\n",
              "          docLink.innerHTML = docLinkHtml;\n",
              "          element.appendChild(docLink);\n",
              "        }\n",
              "      </script>\n",
              "    </div>\n",
              "  </div>\n",
              "  "
            ],
            "text/plain": [
              "      age  sex   bmi  children  smoker  region\n",
              "0      19    0  27.9         0       1       3\n",
              "1      18    1  33.8         1       0       2\n",
              "2      28    1  33.0         3       0       2\n",
              "3      33    1  22.7         0       0       1\n",
              "4      32    1  28.9         0       0       1\n",
              "...   ...  ...   ...       ...     ...     ...\n",
              "1333   50    1  31.0         3       0       1\n",
              "1334   18    0  31.9         0       0       0\n",
              "1335   18    0  36.9         0       0       2\n",
              "1336   21    0  25.8         0       0       3\n",
              "1337   61    0  29.1         0       1       1\n",
              "\n",
              "[1338 rows x 6 columns]"
            ]
          },
          "metadata": {},
          "execution_count": 15
        }
      ]
    },
    {
      "cell_type": "code",
      "source": [
        "from sklearn.preprocessing import StandardScaler\n",
        "stdscl = StandardScaler()\n",
        "X = stdscl.fit_transform(X)"
      ],
      "metadata": {
        "id": "Gp44n-X3hNiu"
      },
      "execution_count": 16,
      "outputs": []
    },
    {
      "cell_type": "code",
      "source": [
        "y = dataset.iloc[:,6]\n",
        "y"
      ],
      "metadata": {
        "colab": {
          "base_uri": "https://localhost:8080/"
        },
        "id": "1bzUJIKYbiOd",
        "outputId": "458cfd5e-b92e-491f-ed6b-776ac02c456b"
      },
      "execution_count": 17,
      "outputs": [
        {
          "output_type": "execute_result",
          "data": {
            "text/plain": [
              "0       16884.92\n",
              "1        1725.55\n",
              "2        4449.46\n",
              "3       21984.47\n",
              "4        3866.86\n",
              "          ...   \n",
              "1333    10600.55\n",
              "1334     2205.98\n",
              "1335     1629.83\n",
              "1336     2007.95\n",
              "1337    29141.36\n",
              "Name: expenses, Length: 1338, dtype: float64"
            ]
          },
          "metadata": {},
          "execution_count": 17
        }
      ]
    },
    {
      "cell_type": "code",
      "source": [
        "# Split data into train and test.\n",
        "from sklearn.model_selection import train_test_split\n",
        "X_train, X_test, y_train, y_test = train_test_split(X, y, train_size = 0.8, random_state= 100)"
      ],
      "metadata": {
        "id": "CdNgeX7Ab572"
      },
      "execution_count": 18,
      "outputs": []
    },
    {
      "cell_type": "code",
      "source": [
        "print(X_train.shape)\n",
        "print(X_test.shape)\n",
        "print(y_train.shape)\n",
        "print(y_test.shape)"
      ],
      "metadata": {
        "colab": {
          "base_uri": "https://localhost:8080/"
        },
        "id": "uEsCmkKHcET9",
        "outputId": "6b860972-efa2-4525-a5c9-222333c600a9"
      },
      "execution_count": 19,
      "outputs": [
        {
          "output_type": "stream",
          "name": "stdout",
          "text": [
            "(1070, 6)\n",
            "(268, 6)\n",
            "(1070,)\n",
            "(268,)\n"
          ]
        }
      ]
    },
    {
      "cell_type": "code",
      "source": [
        "X_train.shape[1]"
      ],
      "metadata": {
        "colab": {
          "base_uri": "https://localhost:8080/"
        },
        "id": "u5vMKEnzc8_V",
        "outputId": "2b46b2d0-fc79-4e3f-efc9-53b80c413a50"
      },
      "execution_count": 20,
      "outputs": [
        {
          "output_type": "execute_result",
          "data": {
            "text/plain": [
              "6"
            ]
          },
          "metadata": {},
          "execution_count": 20
        }
      ]
    },
    {
      "cell_type": "code",
      "source": [
        ""
      ],
      "metadata": {
        "id": "v9wn9j-md-Gr"
      },
      "execution_count": 20,
      "outputs": []
    },
    {
      "cell_type": "code",
      "source": [
        "model = tf.keras.models.Sequential()\n",
        "\n",
        "\n",
        "model.add(tf.keras.layers.Dense(units = 15, activation = 'relu', input_shape = (X_train.shape[1],))) # input + hidden layer\n",
        "model.add(tf.keras.layers.Dense(units = 15, activation = \"relu\")) # hidden layer\n",
        "model.add(tf.keras.layers.Dense(units = 15, activation = \"relu\")) # hidden layer\n",
        "model.add(tf.keras.layers.Dense(units = 1, activation = \"relu\")) # ouptput layer"
      ],
      "metadata": {
        "id": "grjIw2mQcZga"
      },
      "execution_count": 21,
      "outputs": []
    },
    {
      "cell_type": "code",
      "source": [
        "model.compile(optimizer=\"adam\",\n",
        "             loss = \"mean_absolute_error\",\n",
        "             metrics=['mae', 'mse'])"
      ],
      "metadata": {
        "id": "ThjKTx9-ifOQ"
      },
      "execution_count": 22,
      "outputs": []
    },
    {
      "cell_type": "code",
      "source": [
        "mdl_history = model.fit(X_train,\n",
        "         y_train,\n",
        "         epochs = 500,\n",
        "         validation_split=0.2)"
      ],
      "metadata": {
        "colab": {
          "base_uri": "https://localhost:8080/"
        },
        "id": "KbG_rWW1i3PP",
        "outputId": "3af73ea3-b46c-4903-c3d1-12ab5dce4c97"
      },
      "execution_count": 23,
      "outputs": [
        {
          "output_type": "stream",
          "name": "stdout",
          "text": [
            "Epoch 1/500\n",
            "27/27 [==============================] - 2s 22ms/step - loss: 13250.7617 - mae: 13250.7617 - mse: 321388384.0000 - val_loss: 12320.5957 - val_mae: 12320.5957 - val_mse: 286686336.0000\n",
            "Epoch 2/500\n",
            "27/27 [==============================] - 0s 7ms/step - loss: 13250.0010 - mae: 13250.0010 - mse: 321366080.0000 - val_loss: 12319.3672 - val_mae: 12319.3672 - val_mse: 286653536.0000\n",
            "Epoch 3/500\n",
            "27/27 [==============================] - 0s 7ms/step - loss: 13248.3564 - mae: 13248.3564 - mse: 321317472.0000 - val_loss: 12317.1182 - val_mae: 12317.1182 - val_mse: 286594880.0000\n",
            "Epoch 4/500\n",
            "27/27 [==============================] - 0s 9ms/step - loss: 13245.3340 - mae: 13245.3340 - mse: 321233728.0000 - val_loss: 12312.9053 - val_mae: 12312.9053 - val_mse: 286485248.0000\n",
            "Epoch 5/500\n",
            "27/27 [==============================] - 0s 5ms/step - loss: 13239.7041 - mae: 13239.7041 - mse: 321074688.0000 - val_loss: 12305.2422 - val_mae: 12305.2422 - val_mse: 286285120.0000\n",
            "Epoch 6/500\n",
            "27/27 [==============================] - 0s 7ms/step - loss: 13229.6543 - mae: 13229.6543 - mse: 320790560.0000 - val_loss: 12291.8965 - val_mae: 12291.8965 - val_mse: 285939296.0000\n",
            "Epoch 7/500\n",
            "27/27 [==============================] - 0s 10ms/step - loss: 13212.3730 - mae: 13212.3730 - mse: 320301952.0000 - val_loss: 12269.0049 - val_mae: 12269.0049 - val_mse: 285349728.0000\n",
            "Epoch 8/500\n",
            "27/27 [==============================] - 0s 8ms/step - loss: 13183.5234 - mae: 13183.5234 - mse: 319492512.0000 - val_loss: 12231.7930 - val_mae: 12231.7930 - val_mse: 284394304.0000\n",
            "Epoch 9/500\n",
            "27/27 [==============================] - 0s 6ms/step - loss: 13137.6768 - mae: 13137.6768 - mse: 318243712.0000 - val_loss: 12174.1826 - val_mae: 12174.1826 - val_mse: 282919680.0000\n",
            "Epoch 10/500\n",
            "27/27 [==============================] - 0s 5ms/step - loss: 13068.1914 - mae: 13068.1914 - mse: 316293568.0000 - val_loss: 12088.6562 - val_mae: 12088.6562 - val_mse: 280745536.0000\n",
            "Epoch 11/500\n",
            "27/27 [==============================] - 0s 5ms/step - loss: 12967.3369 - mae: 12967.3369 - mse: 313565824.0000 - val_loss: 11967.4678 - val_mae: 11967.4678 - val_mse: 277699808.0000\n",
            "Epoch 12/500\n",
            "27/27 [==============================] - 0s 7ms/step - loss: 12826.9697 - mae: 12826.9697 - mse: 309751872.0000 - val_loss: 11801.9277 - val_mae: 11801.9277 - val_mse: 273582464.0000\n",
            "Epoch 13/500\n",
            "27/27 [==============================] - 0s 5ms/step - loss: 12638.5791 - mae: 12638.5791 - mse: 304817920.0000 - val_loss: 11583.0605 - val_mae: 11583.0605 - val_mse: 268256912.0000\n",
            "Epoch 14/500\n",
            "27/27 [==============================] - 0s 6ms/step - loss: 12393.0635 - mae: 12393.0635 - mse: 298419200.0000 - val_loss: 11301.3438 - val_mae: 11301.3438 - val_mse: 261606352.0000\n",
            "Epoch 15/500\n",
            "27/27 [==============================] - 0s 10ms/step - loss: 12082.0020 - mae: 12082.0020 - mse: 290568224.0000 - val_loss: 10958.6484 - val_mae: 10958.6484 - val_mse: 253507456.0000\n",
            "Epoch 16/500\n",
            "27/27 [==============================] - 0s 9ms/step - loss: 11726.0068 - mae: 11726.0068 - mse: 281155488.0000 - val_loss: 10571.4688 - val_mae: 10571.4688 - val_mse: 244165760.0000\n",
            "Epoch 17/500\n",
            "27/27 [==============================] - 0s 6ms/step - loss: 11358.9678 - mae: 11358.9678 - mse: 270618560.0000 - val_loss: 10172.9170 - val_mae: 10172.9170 - val_mse: 233847248.0000\n",
            "Epoch 18/500\n",
            "27/27 [==============================] - 0s 7ms/step - loss: 10965.1562 - mae: 10965.1562 - mse: 258915680.0000 - val_loss: 9742.5557 - val_mae: 9742.5557 - val_mse: 222421376.0000\n",
            "Epoch 19/500\n",
            "27/27 [==============================] - 0s 7ms/step - loss: 10532.5283 - mae: 10532.5283 - mse: 245851680.0000 - val_loss: 9283.4355 - val_mae: 9283.4355 - val_mse: 210192736.0000\n",
            "Epoch 20/500\n",
            "27/27 [==============================] - 0s 8ms/step - loss: 10047.0234 - mae: 10047.0234 - mse: 231239392.0000 - val_loss: 8768.4004 - val_mae: 8768.4004 - val_mse: 196661280.0000\n",
            "Epoch 21/500\n",
            "27/27 [==============================] - 0s 6ms/step - loss: 9496.7568 - mae: 9496.7568 - mse: 215844368.0000 - val_loss: 8202.6875 - val_mae: 8202.6875 - val_mse: 182193360.0000\n",
            "Epoch 22/500\n",
            "27/27 [==============================] - 0s 11ms/step - loss: 8896.2822 - mae: 8896.2822 - mse: 198809920.0000 - val_loss: 7624.9038 - val_mae: 7624.9038 - val_mse: 167674544.0000\n",
            "Epoch 23/500\n",
            "27/27 [==============================] - 0s 12ms/step - loss: 8294.8330 - mae: 8294.8330 - mse: 182247728.0000 - val_loss: 7075.1191 - val_mae: 7075.1191 - val_mse: 152879248.0000\n",
            "Epoch 24/500\n",
            "27/27 [==============================] - 0s 10ms/step - loss: 7689.7261 - mae: 7689.7261 - mse: 165361408.0000 - val_loss: 6560.1362 - val_mae: 6560.1362 - val_mse: 139329744.0000\n",
            "Epoch 25/500\n",
            "27/27 [==============================] - 0s 7ms/step - loss: 7132.7661 - mae: 7132.7661 - mse: 150306352.0000 - val_loss: 6153.3696 - val_mae: 6153.3696 - val_mse: 127490760.0000\n",
            "Epoch 26/500\n",
            "27/27 [==============================] - 0s 8ms/step - loss: 6705.7163 - mae: 6705.7163 - mse: 136973456.0000 - val_loss: 5839.3740 - val_mae: 5839.3740 - val_mse: 117335440.0000\n",
            "Epoch 27/500\n",
            "27/27 [==============================] - 0s 7ms/step - loss: 6390.3770 - mae: 6390.3770 - mse: 126913984.0000 - val_loss: 5576.0547 - val_mae: 5576.0547 - val_mse: 109563576.0000\n",
            "Epoch 28/500\n",
            "27/27 [==============================] - 0s 7ms/step - loss: 6134.8149 - mae: 6134.8149 - mse: 118570216.0000 - val_loss: 5329.4082 - val_mae: 5329.4082 - val_mse: 102500648.0000\n",
            "Epoch 29/500\n",
            "27/27 [==============================] - 0s 6ms/step - loss: 5903.5894 - mae: 5903.5894 - mse: 111623160.0000 - val_loss: 5094.2852 - val_mae: 5094.2852 - val_mse: 96431248.0000\n",
            "Epoch 30/500\n",
            "27/27 [==============================] - 0s 7ms/step - loss: 5685.0220 - mae: 5685.0220 - mse: 105792752.0000 - val_loss: 4871.3452 - val_mae: 4871.3452 - val_mse: 90961488.0000\n",
            "Epoch 31/500\n",
            "27/27 [==============================] - 0s 6ms/step - loss: 5482.6304 - mae: 5482.6304 - mse: 99623544.0000 - val_loss: 4656.4033 - val_mae: 4656.4033 - val_mse: 85774472.0000\n",
            "Epoch 32/500\n",
            "27/27 [==============================] - 0s 7ms/step - loss: 5289.6465 - mae: 5289.6465 - mse: 94912256.0000 - val_loss: 4448.2197 - val_mae: 4448.2197 - val_mse: 81077560.0000\n",
            "Epoch 33/500\n",
            "27/27 [==============================] - 0s 5ms/step - loss: 5099.5361 - mae: 5099.5361 - mse: 89682664.0000 - val_loss: 4247.2495 - val_mae: 4247.2495 - val_mse: 76047176.0000\n",
            "Epoch 34/500\n",
            "27/27 [==============================] - 0s 7ms/step - loss: 4916.8457 - mae: 4916.8457 - mse: 84427112.0000 - val_loss: 4051.8188 - val_mae: 4051.8188 - val_mse: 71527912.0000\n",
            "Epoch 35/500\n",
            "27/27 [==============================] - 0s 6ms/step - loss: 4744.0454 - mae: 4744.0454 - mse: 80306648.0000 - val_loss: 3869.3225 - val_mae: 3869.3225 - val_mse: 67401808.0000\n",
            "Epoch 36/500\n",
            "27/27 [==============================] - 0s 5ms/step - loss: 4586.1807 - mae: 4586.1807 - mse: 76160616.0000 - val_loss: 3706.0015 - val_mae: 3706.0015 - val_mse: 63496040.0000\n",
            "Epoch 37/500\n",
            "27/27 [==============================] - 0s 7ms/step - loss: 4441.0229 - mae: 4441.0229 - mse: 71947448.0000 - val_loss: 3560.5063 - val_mae: 3560.5063 - val_mse: 60054480.0000\n",
            "Epoch 38/500\n",
            "27/27 [==============================] - 0s 5ms/step - loss: 4327.1475 - mae: 4327.1475 - mse: 69160296.0000 - val_loss: 3442.8821 - val_mae: 3442.8821 - val_mse: 57484216.0000\n",
            "Epoch 39/500\n",
            "27/27 [==============================] - 0s 7ms/step - loss: 4237.7983 - mae: 4237.7983 - mse: 66643536.0000 - val_loss: 3347.7786 - val_mae: 3347.7786 - val_mse: 55158004.0000\n",
            "Epoch 40/500\n",
            "27/27 [==============================] - 0s 6ms/step - loss: 4162.0547 - mae: 4162.0547 - mse: 64202768.0000 - val_loss: 3268.0068 - val_mae: 3268.0068 - val_mse: 53175804.0000\n",
            "Epoch 41/500\n",
            "27/27 [==============================] - 0s 6ms/step - loss: 4102.1870 - mae: 4102.1870 - mse: 62508568.0000 - val_loss: 3213.6826 - val_mae: 3213.6826 - val_mse: 51650284.0000\n",
            "Epoch 42/500\n",
            "27/27 [==============================] - 0s 7ms/step - loss: 4058.4023 - mae: 4058.4023 - mse: 61272140.0000 - val_loss: 3168.4761 - val_mae: 3168.4761 - val_mse: 50524032.0000\n",
            "Epoch 43/500\n",
            "27/27 [==============================] - 0s 6ms/step - loss: 4019.4109 - mae: 4019.4109 - mse: 60137496.0000 - val_loss: 3140.1772 - val_mae: 3140.1772 - val_mse: 49638888.0000\n",
            "Epoch 44/500\n",
            "27/27 [==============================] - 0s 12ms/step - loss: 3986.9399 - mae: 3986.9399 - mse: 59274796.0000 - val_loss: 3118.0847 - val_mae: 3118.0847 - val_mse: 48760920.0000\n",
            "Epoch 45/500\n",
            "27/27 [==============================] - 0s 7ms/step - loss: 3956.9104 - mae: 3956.9104 - mse: 58082272.0000 - val_loss: 3093.4409 - val_mae: 3093.4409 - val_mse: 47773216.0000\n",
            "Epoch 46/500\n",
            "27/27 [==============================] - 0s 8ms/step - loss: 3926.8486 - mae: 3926.8486 - mse: 57188176.0000 - val_loss: 3071.4255 - val_mae: 3071.4255 - val_mse: 47095500.0000\n",
            "Epoch 47/500\n",
            "27/27 [==============================] - 0s 9ms/step - loss: 3902.0898 - mae: 3902.0898 - mse: 56130216.0000 - val_loss: 3063.9373 - val_mae: 3063.9373 - val_mse: 45970464.0000\n",
            "Epoch 48/500\n",
            "27/27 [==============================] - 0s 5ms/step - loss: 3874.8301 - mae: 3874.8301 - mse: 55454604.0000 - val_loss: 3044.0315 - val_mae: 3044.0315 - val_mse: 45381392.0000\n",
            "Epoch 49/500\n",
            "27/27 [==============================] - 0s 6ms/step - loss: 3850.5845 - mae: 3850.5845 - mse: 54809364.0000 - val_loss: 3027.7786 - val_mae: 3027.7786 - val_mse: 44888228.0000\n",
            "Epoch 50/500\n",
            "27/27 [==============================] - 0s 6ms/step - loss: 3828.0923 - mae: 3828.0923 - mse: 53997904.0000 - val_loss: 3021.5063 - val_mae: 3021.5063 - val_mse: 44129996.0000\n",
            "Epoch 51/500\n",
            "27/27 [==============================] - 0s 6ms/step - loss: 3809.2153 - mae: 3809.2153 - mse: 53043952.0000 - val_loss: 3006.2859 - val_mae: 3006.2859 - val_mse: 43744256.0000\n",
            "Epoch 52/500\n",
            "27/27 [==============================] - 0s 6ms/step - loss: 3788.0537 - mae: 3788.0537 - mse: 52669656.0000 - val_loss: 3004.1248 - val_mae: 3004.1248 - val_mse: 42916528.0000\n",
            "Epoch 53/500\n",
            "27/27 [==============================] - 0s 6ms/step - loss: 3768.6118 - mae: 3768.6118 - mse: 52053812.0000 - val_loss: 2992.3093 - val_mae: 2992.3093 - val_mse: 42551140.0000\n",
            "Epoch 54/500\n",
            "27/27 [==============================] - 0s 13ms/step - loss: 3751.0002 - mae: 3751.0002 - mse: 51267868.0000 - val_loss: 2986.8721 - val_mae: 2986.8721 - val_mse: 41878968.0000\n",
            "Epoch 55/500\n",
            "27/27 [==============================] - 0s 7ms/step - loss: 3732.1169 - mae: 3732.1169 - mse: 50685528.0000 - val_loss: 2983.9312 - val_mae: 2983.9312 - val_mse: 41379328.0000\n",
            "Epoch 56/500\n",
            "27/27 [==============================] - 0s 7ms/step - loss: 3715.9077 - mae: 3715.9077 - mse: 50275844.0000 - val_loss: 2976.0571 - val_mae: 2976.0571 - val_mse: 40900832.0000\n",
            "Epoch 57/500\n",
            "27/27 [==============================] - 0s 5ms/step - loss: 3700.0552 - mae: 3700.0552 - mse: 49697480.0000 - val_loss: 2969.7383 - val_mae: 2969.7383 - val_mse: 40478644.0000\n",
            "Epoch 58/500\n",
            "27/27 [==============================] - 0s 10ms/step - loss: 3682.6963 - mae: 3682.6963 - mse: 48839312.0000 - val_loss: 2963.9436 - val_mae: 2963.9436 - val_mse: 39915716.0000\n",
            "Epoch 59/500\n",
            "27/27 [==============================] - 0s 10ms/step - loss: 3664.8674 - mae: 3664.8674 - mse: 48589732.0000 - val_loss: 2957.7576 - val_mae: 2957.7576 - val_mse: 39472132.0000\n",
            "Epoch 60/500\n",
            "27/27 [==============================] - 0s 9ms/step - loss: 3648.8457 - mae: 3648.8457 - mse: 47838648.0000 - val_loss: 2952.2051 - val_mae: 2952.2051 - val_mse: 39010428.0000\n",
            "Epoch 61/500\n",
            "27/27 [==============================] - 0s 6ms/step - loss: 3634.1587 - mae: 3634.1587 - mse: 47221020.0000 - val_loss: 2947.7512 - val_mae: 2947.7512 - val_mse: 38533624.0000\n",
            "Epoch 62/500\n",
            "27/27 [==============================] - 0s 11ms/step - loss: 3620.0867 - mae: 3620.0867 - mse: 46774156.0000 - val_loss: 2946.0833 - val_mae: 2946.0833 - val_mse: 38041172.0000\n",
            "Epoch 63/500\n",
            "27/27 [==============================] - 0s 7ms/step - loss: 3606.3464 - mae: 3606.3464 - mse: 45917328.0000 - val_loss: 2942.4358 - val_mae: 2942.4358 - val_mse: 37516356.0000\n",
            "Epoch 64/500\n",
            "27/27 [==============================] - 0s 10ms/step - loss: 3590.1394 - mae: 3590.1394 - mse: 45740136.0000 - val_loss: 2941.4744 - val_mae: 2941.4744 - val_mse: 37065724.0000\n",
            "Epoch 65/500\n",
            "27/27 [==============================] - 0s 11ms/step - loss: 3574.7251 - mae: 3574.7251 - mse: 45094236.0000 - val_loss: 2937.9734 - val_mae: 2937.9734 - val_mse: 36705052.0000\n",
            "Epoch 66/500\n",
            "27/27 [==============================] - 0s 11ms/step - loss: 3560.3782 - mae: 3560.3782 - mse: 44630424.0000 - val_loss: 2933.5671 - val_mae: 2933.5671 - val_mse: 36260868.0000\n",
            "Epoch 67/500\n",
            "27/27 [==============================] - 0s 9ms/step - loss: 3546.2012 - mae: 3546.2012 - mse: 43858876.0000 - val_loss: 2931.4832 - val_mae: 2931.4832 - val_mse: 35907216.0000\n",
            "Epoch 68/500\n",
            "27/27 [==============================] - 0s 9ms/step - loss: 3530.4006 - mae: 3530.4006 - mse: 43719000.0000 - val_loss: 2931.3318 - val_mae: 2931.3318 - val_mse: 35499708.0000\n",
            "Epoch 69/500\n",
            "27/27 [==============================] - 0s 10ms/step - loss: 3516.7014 - mae: 3516.7014 - mse: 42982228.0000 - val_loss: 2929.9788 - val_mae: 2929.9788 - val_mse: 35084520.0000\n",
            "Epoch 70/500\n",
            "27/27 [==============================] - 0s 9ms/step - loss: 3502.5681 - mae: 3502.5681 - mse: 42553432.0000 - val_loss: 2931.7974 - val_mae: 2931.7974 - val_mse: 34772868.0000\n",
            "Epoch 71/500\n",
            "27/27 [==============================] - 0s 11ms/step - loss: 3489.3225 - mae: 3489.3225 - mse: 42242200.0000 - val_loss: 2931.6702 - val_mae: 2931.6702 - val_mse: 34313880.0000\n",
            "Epoch 72/500\n",
            "27/27 [==============================] - 0s 7ms/step - loss: 3480.8467 - mae: 3480.8467 - mse: 41297288.0000 - val_loss: 2936.1172 - val_mae: 2936.1172 - val_mse: 33970704.0000\n",
            "Epoch 73/500\n",
            "27/27 [==============================] - 0s 10ms/step - loss: 3460.0117 - mae: 3460.0117 - mse: 41189252.0000 - val_loss: 2930.0508 - val_mae: 2930.0508 - val_mse: 33721364.0000\n",
            "Epoch 74/500\n",
            "27/27 [==============================] - 0s 11ms/step - loss: 3444.8889 - mae: 3444.8889 - mse: 40814900.0000 - val_loss: 2936.7192 - val_mae: 2936.7192 - val_mse: 33410606.0000\n",
            "Epoch 75/500\n",
            "27/27 [==============================] - 0s 6ms/step - loss: 3434.0457 - mae: 3434.0457 - mse: 40235320.0000 - val_loss: 2935.8616 - val_mae: 2935.8616 - val_mse: 33173480.0000\n",
            "Epoch 76/500\n",
            "27/27 [==============================] - 0s 7ms/step - loss: 3418.7354 - mae: 3418.7354 - mse: 40105272.0000 - val_loss: 2934.0889 - val_mae: 2934.0889 - val_mse: 33060440.0000\n",
            "Epoch 77/500\n",
            "27/27 [==============================] - 0s 6ms/step - loss: 3407.6453 - mae: 3407.6453 - mse: 39839912.0000 - val_loss: 2936.0491 - val_mae: 2936.0491 - val_mse: 32837338.0000\n",
            "Epoch 78/500\n",
            "27/27 [==============================] - 0s 6ms/step - loss: 3392.3020 - mae: 3392.3020 - mse: 39552400.0000 - val_loss: 2931.9824 - val_mae: 2931.9824 - val_mse: 32841570.0000\n",
            "Epoch 79/500\n",
            "27/27 [==============================] - 0s 14ms/step - loss: 3379.8423 - mae: 3379.8423 - mse: 39354644.0000 - val_loss: 2934.1101 - val_mae: 2934.1101 - val_mse: 32670156.0000\n",
            "Epoch 80/500\n",
            "27/27 [==============================] - 0s 9ms/step - loss: 3366.3406 - mae: 3366.3406 - mse: 39172444.0000 - val_loss: 2938.2852 - val_mae: 2938.2852 - val_mse: 32669302.0000\n",
            "Epoch 81/500\n",
            "27/27 [==============================] - 0s 12ms/step - loss: 3354.8855 - mae: 3354.8855 - mse: 38867740.0000 - val_loss: 2937.4766 - val_mae: 2937.4766 - val_mse: 32589780.0000\n",
            "Epoch 82/500\n",
            "27/27 [==============================] - 0s 11ms/step - loss: 3339.0295 - mae: 3339.0295 - mse: 38833172.0000 - val_loss: 2943.8777 - val_mae: 2943.8777 - val_mse: 32631712.0000\n",
            "Epoch 83/500\n",
            "27/27 [==============================] - 0s 9ms/step - loss: 3326.2468 - mae: 3326.2468 - mse: 38661756.0000 - val_loss: 2937.6724 - val_mae: 2937.6724 - val_mse: 32610058.0000\n",
            "Epoch 84/500\n",
            "27/27 [==============================] - 0s 7ms/step - loss: 3310.1460 - mae: 3310.1460 - mse: 38606148.0000 - val_loss: 2941.6206 - val_mae: 2941.6206 - val_mse: 32736742.0000\n",
            "Epoch 85/500\n",
            "27/27 [==============================] - 0s 9ms/step - loss: 3296.1313 - mae: 3296.1313 - mse: 38586244.0000 - val_loss: 2948.1279 - val_mae: 2948.1279 - val_mse: 32888396.0000\n",
            "Epoch 86/500\n",
            "27/27 [==============================] - 0s 7ms/step - loss: 3284.4138 - mae: 3284.4138 - mse: 38612252.0000 - val_loss: 2945.6565 - val_mae: 2945.6565 - val_mse: 33012994.0000\n",
            "Epoch 87/500\n",
            "27/27 [==============================] - 0s 7ms/step - loss: 3269.5110 - mae: 3269.5110 - mse: 38791752.0000 - val_loss: 2948.7615 - val_mae: 2948.7615 - val_mse: 33384060.0000\n",
            "Epoch 88/500\n",
            "27/27 [==============================] - 0s 9ms/step - loss: 3253.4087 - mae: 3253.4087 - mse: 38789564.0000 - val_loss: 2954.9260 - val_mae: 2954.9260 - val_mse: 33579600.0000\n",
            "Epoch 89/500\n",
            "27/27 [==============================] - 0s 17ms/step - loss: 3238.9421 - mae: 3238.9421 - mse: 38886128.0000 - val_loss: 2958.5579 - val_mae: 2958.5579 - val_mse: 33949692.0000\n",
            "Epoch 90/500\n",
            "27/27 [==============================] - 0s 12ms/step - loss: 3223.5103 - mae: 3223.5103 - mse: 39106520.0000 - val_loss: 2972.5615 - val_mae: 2972.5615 - val_mse: 34498384.0000\n",
            "Epoch 91/500\n",
            "27/27 [==============================] - 0s 8ms/step - loss: 3208.6860 - mae: 3208.6860 - mse: 39444324.0000 - val_loss: 2970.9563 - val_mae: 2970.9563 - val_mse: 34908404.0000\n",
            "Epoch 92/500\n",
            "27/27 [==============================] - 0s 8ms/step - loss: 3193.8557 - mae: 3193.8557 - mse: 39989116.0000 - val_loss: 2974.4690 - val_mae: 2974.4692 - val_mse: 35579592.0000\n",
            "Epoch 93/500\n",
            "27/27 [==============================] - 0s 9ms/step - loss: 3179.6594 - mae: 3179.6594 - mse: 40299940.0000 - val_loss: 2980.2278 - val_mae: 2980.2278 - val_mse: 36162284.0000\n",
            "Epoch 94/500\n",
            "27/27 [==============================] - 0s 10ms/step - loss: 3162.4919 - mae: 3162.4919 - mse: 40776524.0000 - val_loss: 2983.7451 - val_mae: 2983.7451 - val_mse: 36934340.0000\n",
            "Epoch 95/500\n",
            "27/27 [==============================] - 0s 5ms/step - loss: 3147.7485 - mae: 3147.7485 - mse: 41379320.0000 - val_loss: 2991.1060 - val_mae: 2991.1060 - val_mse: 37705560.0000\n",
            "Epoch 96/500\n",
            "27/27 [==============================] - 0s 5ms/step - loss: 3136.7764 - mae: 3136.7764 - mse: 41698432.0000 - val_loss: 2984.9519 - val_mae: 2984.9519 - val_mse: 37989392.0000\n",
            "Epoch 97/500\n",
            "27/27 [==============================] - 0s 7ms/step - loss: 3127.3770 - mae: 3127.3770 - mse: 42089272.0000 - val_loss: 2982.3948 - val_mae: 2982.3948 - val_mse: 38462004.0000\n",
            "Epoch 98/500\n",
            "27/27 [==============================] - 0s 7ms/step - loss: 3120.6018 - mae: 3120.6018 - mse: 42539584.0000 - val_loss: 2976.7080 - val_mae: 2976.7080 - val_mse: 38733024.0000\n",
            "Epoch 99/500\n",
            "27/27 [==============================] - 0s 6ms/step - loss: 3112.6902 - mae: 3112.6902 - mse: 42738400.0000 - val_loss: 2978.3516 - val_mae: 2978.3516 - val_mse: 39024136.0000\n",
            "Epoch 100/500\n",
            "27/27 [==============================] - 0s 5ms/step - loss: 3108.0120 - mae: 3108.0120 - mse: 42704772.0000 - val_loss: 2973.8486 - val_mae: 2973.8486 - val_mse: 38989700.0000\n",
            "Epoch 101/500\n",
            "27/27 [==============================] - 0s 7ms/step - loss: 3102.4094 - mae: 3102.4094 - mse: 43112468.0000 - val_loss: 2968.2446 - val_mae: 2968.2446 - val_mse: 39271872.0000\n",
            "Epoch 102/500\n",
            "27/27 [==============================] - 0s 5ms/step - loss: 3095.5732 - mae: 3095.5732 - mse: 43087704.0000 - val_loss: 2962.3755 - val_mae: 2962.3755 - val_mse: 39004764.0000\n",
            "Epoch 103/500\n",
            "27/27 [==============================] - 0s 7ms/step - loss: 3090.8525 - mae: 3090.8525 - mse: 42688192.0000 - val_loss: 2958.2183 - val_mae: 2958.2183 - val_mse: 38908616.0000\n",
            "Epoch 104/500\n",
            "27/27 [==============================] - 0s 10ms/step - loss: 3084.5076 - mae: 3084.5076 - mse: 42672624.0000 - val_loss: 2947.6477 - val_mae: 2947.6477 - val_mse: 38689080.0000\n",
            "Epoch 105/500\n",
            "27/27 [==============================] - 0s 7ms/step - loss: 3077.3770 - mae: 3077.3770 - mse: 42505752.0000 - val_loss: 2953.6338 - val_mae: 2953.6338 - val_mse: 38950108.0000\n",
            "Epoch 106/500\n",
            "27/27 [==============================] - 0s 8ms/step - loss: 3072.1028 - mae: 3072.1028 - mse: 42793328.0000 - val_loss: 2948.4053 - val_mae: 2948.4053 - val_mse: 39009692.0000\n",
            "Epoch 107/500\n",
            "27/27 [==============================] - 0s 5ms/step - loss: 3064.4678 - mae: 3064.4678 - mse: 42578304.0000 - val_loss: 2939.2827 - val_mae: 2939.2827 - val_mse: 38679144.0000\n",
            "Epoch 108/500\n",
            "27/27 [==============================] - 0s 6ms/step - loss: 3059.8110 - mae: 3059.8110 - mse: 42465240.0000 - val_loss: 2934.0259 - val_mae: 2934.0259 - val_mse: 38578660.0000\n",
            "Epoch 109/500\n",
            "27/27 [==============================] - 0s 7ms/step - loss: 3056.8647 - mae: 3056.8647 - mse: 42373168.0000 - val_loss: 2940.8491 - val_mae: 2940.8491 - val_mse: 38832832.0000\n",
            "Epoch 110/500\n",
            "27/27 [==============================] - 0s 7ms/step - loss: 3049.7144 - mae: 3049.7144 - mse: 42223868.0000 - val_loss: 2924.7876 - val_mae: 2924.7876 - val_mse: 38352928.0000\n",
            "Epoch 111/500\n",
            "27/27 [==============================] - 0s 5ms/step - loss: 3043.2556 - mae: 3043.2556 - mse: 42202008.0000 - val_loss: 2921.4521 - val_mae: 2921.4521 - val_mse: 38481056.0000\n",
            "Epoch 112/500\n",
            "27/27 [==============================] - 0s 7ms/step - loss: 3041.5891 - mae: 3041.5891 - mse: 42215824.0000 - val_loss: 2911.7219 - val_mae: 2911.7219 - val_mse: 38118816.0000\n",
            "Epoch 113/500\n",
            "27/27 [==============================] - 0s 5ms/step - loss: 3034.3181 - mae: 3034.3181 - mse: 42333084.0000 - val_loss: 2911.9912 - val_mae: 2911.9912 - val_mse: 38339396.0000\n",
            "Epoch 114/500\n",
            "27/27 [==============================] - 0s 7ms/step - loss: 3030.3647 - mae: 3030.3647 - mse: 42136500.0000 - val_loss: 2905.1768 - val_mae: 2905.1768 - val_mse: 38236388.0000\n",
            "Epoch 115/500\n",
            "27/27 [==============================] - 0s 7ms/step - loss: 3021.5317 - mae: 3021.5317 - mse: 42093664.0000 - val_loss: 2901.5398 - val_mae: 2901.5398 - val_mse: 38270536.0000\n",
            "Epoch 116/500\n",
            "27/27 [==============================] - 0s 11ms/step - loss: 3017.1760 - mae: 3017.1760 - mse: 41907352.0000 - val_loss: 2895.2073 - val_mae: 2895.2073 - val_mse: 38010180.0000\n",
            "Epoch 117/500\n",
            "27/27 [==============================] - 0s 9ms/step - loss: 3010.8420 - mae: 3010.8420 - mse: 41929024.0000 - val_loss: 2895.4954 - val_mae: 2895.4954 - val_mse: 38213060.0000\n",
            "Epoch 118/500\n",
            "27/27 [==============================] - 0s 12ms/step - loss: 3006.4663 - mae: 3006.4663 - mse: 41969524.0000 - val_loss: 2886.2517 - val_mae: 2886.2517 - val_mse: 37965980.0000\n",
            "Epoch 119/500\n",
            "27/27 [==============================] - 0s 7ms/step - loss: 3000.8337 - mae: 3000.8337 - mse: 41663236.0000 - val_loss: 2883.7312 - val_mae: 2883.7312 - val_mse: 37832736.0000\n",
            "Epoch 120/500\n",
            "27/27 [==============================] - 0s 10ms/step - loss: 2997.5713 - mae: 2997.5713 - mse: 41789080.0000 - val_loss: 2878.5479 - val_mae: 2878.5479 - val_mse: 37884696.0000\n",
            "Epoch 121/500\n",
            "27/27 [==============================] - 0s 11ms/step - loss: 2995.0837 - mae: 2995.0837 - mse: 41543192.0000 - val_loss: 2875.1794 - val_mae: 2875.1794 - val_mse: 37614852.0000\n",
            "Epoch 122/500\n",
            "27/27 [==============================] - 0s 6ms/step - loss: 2988.1245 - mae: 2988.1245 - mse: 41336420.0000 - val_loss: 2866.7722 - val_mae: 2866.7722 - val_mse: 37396204.0000\n",
            "Epoch 123/500\n",
            "27/27 [==============================] - 0s 7ms/step - loss: 2983.8442 - mae: 2983.8442 - mse: 41453584.0000 - val_loss: 2859.1619 - val_mae: 2859.1619 - val_mse: 37288244.0000\n",
            "Epoch 124/500\n",
            "27/27 [==============================] - 0s 8ms/step - loss: 2979.0232 - mae: 2979.0232 - mse: 41332256.0000 - val_loss: 2852.7881 - val_mae: 2852.7881 - val_mse: 37217784.0000\n",
            "Epoch 125/500\n",
            "27/27 [==============================] - 0s 8ms/step - loss: 2973.3330 - mae: 2973.3330 - mse: 41194768.0000 - val_loss: 2858.8538 - val_mae: 2858.8538 - val_mse: 37380700.0000\n",
            "Epoch 126/500\n",
            "27/27 [==============================] - 0s 6ms/step - loss: 2968.4883 - mae: 2968.4883 - mse: 41046104.0000 - val_loss: 2843.0039 - val_mae: 2843.0039 - val_mse: 36880480.0000\n",
            "Epoch 127/500\n",
            "27/27 [==============================] - 0s 5ms/step - loss: 2963.9080 - mae: 2963.9080 - mse: 41073036.0000 - val_loss: 2841.5281 - val_mae: 2841.5281 - val_mse: 36968804.0000\n",
            "Epoch 128/500\n",
            "27/27 [==============================] - 0s 8ms/step - loss: 2957.7891 - mae: 2957.7891 - mse: 41047264.0000 - val_loss: 2836.3257 - val_mae: 2836.3257 - val_mse: 36930672.0000\n",
            "Epoch 129/500\n",
            "27/27 [==============================] - 0s 5ms/step - loss: 2954.0815 - mae: 2954.0815 - mse: 40757892.0000 - val_loss: 2837.1765 - val_mae: 2837.1765 - val_mse: 36872488.0000\n",
            "Epoch 130/500\n",
            "27/27 [==============================] - 0s 8ms/step - loss: 2949.8452 - mae: 2949.8452 - mse: 40922776.0000 - val_loss: 2834.8335 - val_mae: 2834.8335 - val_mse: 37115956.0000\n",
            "Epoch 131/500\n",
            "27/27 [==============================] - 0s 7ms/step - loss: 2949.6160 - mae: 2949.6160 - mse: 40702396.0000 - val_loss: 2818.7920 - val_mae: 2818.7920 - val_mse: 36373220.0000\n",
            "Epoch 132/500\n",
            "27/27 [==============================] - 0s 8ms/step - loss: 2941.9001 - mae: 2941.9001 - mse: 40454172.0000 - val_loss: 2824.5637 - val_mae: 2824.5637 - val_mse: 36585524.0000\n",
            "Epoch 133/500\n",
            "27/27 [==============================] - 0s 10ms/step - loss: 2941.8335 - mae: 2941.8335 - mse: 40781596.0000 - val_loss: 2810.9587 - val_mae: 2810.9587 - val_mse: 36380720.0000\n",
            "Epoch 134/500\n",
            "27/27 [==============================] - 0s 5ms/step - loss: 2935.0391 - mae: 2935.0391 - mse: 40600036.0000 - val_loss: 2806.2290 - val_mae: 2806.2290 - val_mse: 36200692.0000\n",
            "Epoch 135/500\n",
            "27/27 [==============================] - 0s 7ms/step - loss: 2935.1992 - mae: 2935.1992 - mse: 40175852.0000 - val_loss: 2814.5100 - val_mae: 2814.5100 - val_mse: 36363836.0000\n",
            "Epoch 136/500\n",
            "27/27 [==============================] - 0s 7ms/step - loss: 2928.9648 - mae: 2928.9648 - mse: 40333596.0000 - val_loss: 2808.5935 - val_mae: 2808.5935 - val_mse: 36497332.0000\n",
            "Epoch 137/500\n",
            "27/27 [==============================] - 0s 10ms/step - loss: 2924.8901 - mae: 2924.8901 - mse: 40387212.0000 - val_loss: 2799.9224 - val_mae: 2799.9224 - val_mse: 36177736.0000\n",
            "Epoch 138/500\n",
            "27/27 [==============================] - 0s 4ms/step - loss: 2922.4900 - mae: 2922.4900 - mse: 40195860.0000 - val_loss: 2798.3394 - val_mae: 2798.3394 - val_mse: 36261636.0000\n",
            "Epoch 139/500\n",
            "27/27 [==============================] - 0s 3ms/step - loss: 2917.9177 - mae: 2917.9177 - mse: 40278616.0000 - val_loss: 2790.0088 - val_mae: 2790.0088 - val_mse: 36053580.0000\n",
            "Epoch 140/500\n",
            "27/27 [==============================] - 0s 3ms/step - loss: 2914.9668 - mae: 2914.9668 - mse: 40225476.0000 - val_loss: 2784.9060 - val_mae: 2784.9060 - val_mse: 35946468.0000\n",
            "Epoch 141/500\n",
            "27/27 [==============================] - 0s 3ms/step - loss: 2912.5718 - mae: 2912.5718 - mse: 40143852.0000 - val_loss: 2783.8577 - val_mae: 2783.8577 - val_mse: 36025396.0000\n",
            "Epoch 142/500\n",
            "27/27 [==============================] - 0s 4ms/step - loss: 2909.2744 - mae: 2909.2744 - mse: 40081240.0000 - val_loss: 2782.9121 - val_mae: 2782.9121 - val_mse: 36054744.0000\n",
            "Epoch 143/500\n",
            "27/27 [==============================] - 0s 3ms/step - loss: 2906.7979 - mae: 2906.7979 - mse: 40001724.0000 - val_loss: 2771.6338 - val_mae: 2771.6338 - val_mse: 35610872.0000\n",
            "Epoch 144/500\n",
            "27/27 [==============================] - 0s 3ms/step - loss: 2901.6487 - mae: 2901.6487 - mse: 39921000.0000 - val_loss: 2773.8533 - val_mae: 2773.8533 - val_mse: 35890108.0000\n",
            "Epoch 145/500\n",
            "27/27 [==============================] - 0s 3ms/step - loss: 2899.7603 - mae: 2899.7603 - mse: 39875700.0000 - val_loss: 2768.0486 - val_mae: 2768.0486 - val_mse: 35559080.0000\n",
            "Epoch 146/500\n",
            "27/27 [==============================] - 0s 3ms/step - loss: 2897.3179 - mae: 2897.3179 - mse: 39809496.0000 - val_loss: 2768.0532 - val_mae: 2768.0532 - val_mse: 35670116.0000\n",
            "Epoch 147/500\n",
            "27/27 [==============================] - 0s 3ms/step - loss: 2893.5391 - mae: 2893.5391 - mse: 39679912.0000 - val_loss: 2762.1794 - val_mae: 2762.1790 - val_mse: 35544728.0000\n",
            "Epoch 148/500\n",
            "27/27 [==============================] - 0s 4ms/step - loss: 2893.3333 - mae: 2893.3333 - mse: 39835752.0000 - val_loss: 2749.4707 - val_mae: 2749.4707 - val_mse: 35095824.0000\n",
            "Epoch 149/500\n",
            "27/27 [==============================] - 0s 3ms/step - loss: 2891.4060 - mae: 2891.4060 - mse: 39563336.0000 - val_loss: 2749.9595 - val_mae: 2749.9595 - val_mse: 35104264.0000\n",
            "Epoch 150/500\n",
            "27/27 [==============================] - 0s 3ms/step - loss: 2888.1509 - mae: 2888.1509 - mse: 39516504.0000 - val_loss: 2760.6956 - val_mae: 2760.6956 - val_mse: 35568124.0000\n",
            "Epoch 151/500\n",
            "27/27 [==============================] - 0s 4ms/step - loss: 2881.4387 - mae: 2881.4387 - mse: 39360340.0000 - val_loss: 2744.2908 - val_mae: 2744.2908 - val_mse: 35012752.0000\n",
            "Epoch 152/500\n",
            "27/27 [==============================] - 0s 4ms/step - loss: 2878.8098 - mae: 2878.8098 - mse: 39217340.0000 - val_loss: 2744.5696 - val_mae: 2744.5696 - val_mse: 35111708.0000\n",
            "Epoch 153/500\n",
            "27/27 [==============================] - 0s 4ms/step - loss: 2874.7756 - mae: 2874.7756 - mse: 39392712.0000 - val_loss: 2739.9761 - val_mae: 2739.9761 - val_mse: 35112088.0000\n",
            "Epoch 154/500\n",
            "27/27 [==============================] - 0s 3ms/step - loss: 2871.6267 - mae: 2871.6267 - mse: 39306648.0000 - val_loss: 2736.4451 - val_mae: 2736.4451 - val_mse: 35047540.0000\n",
            "Epoch 155/500\n",
            "27/27 [==============================] - 0s 3ms/step - loss: 2869.9260 - mae: 2869.9260 - mse: 39338696.0000 - val_loss: 2730.7236 - val_mae: 2730.7236 - val_mse: 34971800.0000\n",
            "Epoch 156/500\n",
            "27/27 [==============================] - 0s 3ms/step - loss: 2866.6609 - mae: 2866.6609 - mse: 38938796.0000 - val_loss: 2727.9807 - val_mae: 2727.9807 - val_mse: 34712756.0000\n",
            "Epoch 157/500\n",
            "27/27 [==============================] - 0s 4ms/step - loss: 2862.0208 - mae: 2862.0208 - mse: 39025076.0000 - val_loss: 2725.8079 - val_mae: 2725.8079 - val_mse: 34822088.0000\n",
            "Epoch 158/500\n",
            "27/27 [==============================] - 0s 4ms/step - loss: 2862.5969 - mae: 2862.5969 - mse: 38778676.0000 - val_loss: 2717.6030 - val_mae: 2717.6030 - val_mse: 34346488.0000\n",
            "Epoch 159/500\n",
            "27/27 [==============================] - 0s 4ms/step - loss: 2857.2607 - mae: 2857.2607 - mse: 38771260.0000 - val_loss: 2718.5352 - val_mae: 2718.5352 - val_mse: 34540300.0000\n",
            "Epoch 160/500\n",
            "27/27 [==============================] - 0s 3ms/step - loss: 2854.2593 - mae: 2854.2593 - mse: 38850756.0000 - val_loss: 2709.8203 - val_mae: 2709.8203 - val_mse: 34329400.0000\n",
            "Epoch 161/500\n",
            "27/27 [==============================] - 0s 3ms/step - loss: 2853.4768 - mae: 2853.4768 - mse: 38902144.0000 - val_loss: 2704.2266 - val_mae: 2704.2266 - val_mse: 34132228.0000\n",
            "Epoch 162/500\n",
            "27/27 [==============================] - 0s 4ms/step - loss: 2848.6365 - mae: 2848.6365 - mse: 38690420.0000 - val_loss: 2700.7961 - val_mae: 2700.7961 - val_mse: 34086416.0000\n",
            "Epoch 163/500\n",
            "27/27 [==============================] - 0s 4ms/step - loss: 2845.9485 - mae: 2845.9485 - mse: 38673728.0000 - val_loss: 2698.8137 - val_mae: 2698.8137 - val_mse: 34040704.0000\n",
            "Epoch 164/500\n",
            "27/27 [==============================] - 0s 3ms/step - loss: 2842.5442 - mae: 2842.5442 - mse: 38431708.0000 - val_loss: 2697.8049 - val_mae: 2697.8049 - val_mse: 33872272.0000\n",
            "Epoch 165/500\n",
            "27/27 [==============================] - 0s 4ms/step - loss: 2840.1509 - mae: 2840.1509 - mse: 38461300.0000 - val_loss: 2690.9766 - val_mae: 2690.9766 - val_mse: 33907092.0000\n",
            "Epoch 166/500\n",
            "27/27 [==============================] - 0s 4ms/step - loss: 2837.3806 - mae: 2837.3806 - mse: 38245776.0000 - val_loss: 2688.2644 - val_mae: 2688.2644 - val_mse: 33580888.0000\n",
            "Epoch 167/500\n",
            "27/27 [==============================] - 0s 4ms/step - loss: 2833.9688 - mae: 2833.9688 - mse: 38147320.0000 - val_loss: 2689.2800 - val_mae: 2689.2800 - val_mse: 33818780.0000\n",
            "Epoch 168/500\n",
            "27/27 [==============================] - 0s 4ms/step - loss: 2830.9915 - mae: 2830.9915 - mse: 38133536.0000 - val_loss: 2683.4792 - val_mae: 2683.4792 - val_mse: 33677728.0000\n",
            "Epoch 169/500\n",
            "27/27 [==============================] - 0s 3ms/step - loss: 2827.7144 - mae: 2827.7144 - mse: 38147008.0000 - val_loss: 2675.9807 - val_mae: 2675.9807 - val_mse: 33338932.0000\n",
            "Epoch 170/500\n",
            "27/27 [==============================] - 0s 4ms/step - loss: 2824.0342 - mae: 2824.0342 - mse: 37978708.0000 - val_loss: 2674.8271 - val_mae: 2674.8271 - val_mse: 33366932.0000\n",
            "Epoch 171/500\n",
            "27/27 [==============================] - 0s 4ms/step - loss: 2821.2346 - mae: 2821.2346 - mse: 37845556.0000 - val_loss: 2676.4497 - val_mae: 2676.4497 - val_mse: 33395448.0000\n",
            "Epoch 172/500\n",
            "27/27 [==============================] - 0s 4ms/step - loss: 2819.1201 - mae: 2819.1201 - mse: 37811312.0000 - val_loss: 2670.7517 - val_mae: 2670.7517 - val_mse: 33353976.0000\n",
            "Epoch 173/500\n",
            "27/27 [==============================] - 0s 3ms/step - loss: 2816.6208 - mae: 2816.6208 - mse: 37624060.0000 - val_loss: 2663.4102 - val_mae: 2663.4102 - val_mse: 32998512.0000\n",
            "Epoch 174/500\n",
            "27/27 [==============================] - 0s 4ms/step - loss: 2815.1709 - mae: 2815.1709 - mse: 37847768.0000 - val_loss: 2655.6643 - val_mae: 2655.6643 - val_mse: 32897246.0000\n",
            "Epoch 175/500\n",
            "27/27 [==============================] - 0s 4ms/step - loss: 2810.2231 - mae: 2810.2231 - mse: 37474876.0000 - val_loss: 2651.6057 - val_mae: 2651.6057 - val_mse: 32680684.0000\n",
            "Epoch 176/500\n",
            "27/27 [==============================] - 0s 4ms/step - loss: 2805.5354 - mae: 2805.5354 - mse: 37381088.0000 - val_loss: 2650.6042 - val_mae: 2650.6042 - val_mse: 32679724.0000\n",
            "Epoch 177/500\n",
            "27/27 [==============================] - 0s 3ms/step - loss: 2803.3660 - mae: 2803.3660 - mse: 37516136.0000 - val_loss: 2648.9697 - val_mae: 2648.9697 - val_mse: 32880540.0000\n",
            "Epoch 178/500\n",
            "27/27 [==============================] - 0s 4ms/step - loss: 2800.1653 - mae: 2800.1653 - mse: 37344024.0000 - val_loss: 2646.0688 - val_mae: 2646.0688 - val_mse: 32596882.0000\n",
            "Epoch 179/500\n",
            "27/27 [==============================] - 0s 3ms/step - loss: 2797.4910 - mae: 2797.4910 - mse: 37198760.0000 - val_loss: 2639.8977 - val_mae: 2639.8977 - val_mse: 32412676.0000\n",
            "Epoch 180/500\n",
            "27/27 [==============================] - 0s 4ms/step - loss: 2795.0918 - mae: 2795.0918 - mse: 37088732.0000 - val_loss: 2631.9583 - val_mae: 2631.9583 - val_mse: 32148502.0000\n",
            "Epoch 181/500\n",
            "27/27 [==============================] - 0s 4ms/step - loss: 2790.4470 - mae: 2790.4470 - mse: 36812416.0000 - val_loss: 2634.2505 - val_mae: 2634.2505 - val_mse: 32130600.0000\n",
            "Epoch 182/500\n",
            "27/27 [==============================] - 0s 4ms/step - loss: 2787.8613 - mae: 2787.8613 - mse: 36861580.0000 - val_loss: 2625.8662 - val_mae: 2625.8662 - val_mse: 32004966.0000\n",
            "Epoch 183/500\n",
            "27/27 [==============================] - 0s 4ms/step - loss: 2785.9163 - mae: 2785.9163 - mse: 36710264.0000 - val_loss: 2618.3391 - val_mae: 2618.3391 - val_mse: 31700384.0000\n",
            "Epoch 184/500\n",
            "27/27 [==============================] - 0s 4ms/step - loss: 2781.4802 - mae: 2781.4802 - mse: 36622728.0000 - val_loss: 2616.5061 - val_mae: 2616.5061 - val_mse: 31695920.0000\n",
            "Epoch 185/500\n",
            "27/27 [==============================] - 0s 3ms/step - loss: 2779.4722 - mae: 2779.4722 - mse: 36398948.0000 - val_loss: 2630.0771 - val_mae: 2630.0771 - val_mse: 31824394.0000\n",
            "Epoch 186/500\n",
            "27/27 [==============================] - 0s 3ms/step - loss: 2776.5286 - mae: 2776.5286 - mse: 36444516.0000 - val_loss: 2606.5459 - val_mae: 2606.5459 - val_mse: 31407248.0000\n",
            "Epoch 187/500\n",
            "27/27 [==============================] - 0s 4ms/step - loss: 2773.0188 - mae: 2773.0188 - mse: 36291136.0000 - val_loss: 2605.7852 - val_mae: 2605.7852 - val_mse: 31414292.0000\n",
            "Epoch 188/500\n",
            "27/27 [==============================] - 0s 4ms/step - loss: 2770.9700 - mae: 2770.9700 - mse: 36388316.0000 - val_loss: 2599.5081 - val_mae: 2599.5081 - val_mse: 31219380.0000\n",
            "Epoch 189/500\n",
            "27/27 [==============================] - 0s 3ms/step - loss: 2769.9050 - mae: 2769.9050 - mse: 35992496.0000 - val_loss: 2599.7200 - val_mae: 2599.7200 - val_mse: 31071288.0000\n",
            "Epoch 190/500\n",
            "27/27 [==============================] - 0s 4ms/step - loss: 2765.7717 - mae: 2765.7717 - mse: 36138188.0000 - val_loss: 2589.3081 - val_mae: 2589.3081 - val_mse: 30900204.0000\n",
            "Epoch 191/500\n",
            "27/27 [==============================] - 0s 4ms/step - loss: 2763.1672 - mae: 2763.1672 - mse: 35903172.0000 - val_loss: 2587.2466 - val_mae: 2587.2466 - val_mse: 30819850.0000\n",
            "Epoch 192/500\n",
            "27/27 [==============================] - 0s 4ms/step - loss: 2757.7732 - mae: 2757.7732 - mse: 35670328.0000 - val_loss: 2585.6543 - val_mae: 2585.6543 - val_mse: 30740444.0000\n",
            "Epoch 193/500\n",
            "27/27 [==============================] - 0s 4ms/step - loss: 2755.7766 - mae: 2755.7766 - mse: 35687916.0000 - val_loss: 2577.9751 - val_mae: 2577.9751 - val_mse: 30540834.0000\n",
            "Epoch 194/500\n",
            "27/27 [==============================] - 0s 4ms/step - loss: 2749.7383 - mae: 2749.7383 - mse: 35542904.0000 - val_loss: 2584.2498 - val_mae: 2584.2498 - val_mse: 30675234.0000\n",
            "Epoch 195/500\n",
            "27/27 [==============================] - 0s 4ms/step - loss: 2751.9465 - mae: 2751.9465 - mse: 35690624.0000 - val_loss: 2571.0234 - val_mae: 2571.0234 - val_mse: 30420848.0000\n",
            "Epoch 196/500\n",
            "27/27 [==============================] - 0s 4ms/step - loss: 2745.4177 - mae: 2745.4177 - mse: 35350032.0000 - val_loss: 2566.7979 - val_mae: 2566.7979 - val_mse: 30197942.0000\n",
            "Epoch 197/500\n",
            "27/27 [==============================] - 0s 4ms/step - loss: 2741.6311 - mae: 2741.6311 - mse: 35317928.0000 - val_loss: 2563.4624 - val_mae: 2563.4624 - val_mse: 30207100.0000\n",
            "Epoch 198/500\n",
            "27/27 [==============================] - 0s 4ms/step - loss: 2740.5295 - mae: 2740.5295 - mse: 35215416.0000 - val_loss: 2556.3347 - val_mae: 2556.3347 - val_mse: 29892780.0000\n",
            "Epoch 199/500\n",
            "27/27 [==============================] - 0s 3ms/step - loss: 2740.5251 - mae: 2740.5251 - mse: 35197200.0000 - val_loss: 2548.8220 - val_mae: 2548.8220 - val_mse: 29665966.0000\n",
            "Epoch 200/500\n",
            "27/27 [==============================] - 0s 4ms/step - loss: 2735.2148 - mae: 2735.2148 - mse: 34863720.0000 - val_loss: 2559.3467 - val_mae: 2559.3467 - val_mse: 29885302.0000\n",
            "Epoch 201/500\n",
            "27/27 [==============================] - 0s 3ms/step - loss: 2729.9053 - mae: 2729.9053 - mse: 34897984.0000 - val_loss: 2543.1577 - val_mae: 2543.1577 - val_mse: 29612308.0000\n",
            "Epoch 202/500\n",
            "27/27 [==============================] - 0s 4ms/step - loss: 2727.3284 - mae: 2727.3284 - mse: 34820164.0000 - val_loss: 2539.0991 - val_mae: 2539.0991 - val_mse: 29551998.0000\n",
            "Epoch 203/500\n",
            "27/27 [==============================] - 0s 4ms/step - loss: 2723.8506 - mae: 2723.8506 - mse: 34603072.0000 - val_loss: 2538.7368 - val_mae: 2538.7368 - val_mse: 29397452.0000\n",
            "Epoch 204/500\n",
            "27/27 [==============================] - 0s 4ms/step - loss: 2721.8499 - mae: 2721.8499 - mse: 34490512.0000 - val_loss: 2537.6714 - val_mae: 2537.6714 - val_mse: 29361774.0000\n",
            "Epoch 205/500\n",
            "27/27 [==============================] - 0s 4ms/step - loss: 2718.0420 - mae: 2718.0420 - mse: 34507916.0000 - val_loss: 2532.1074 - val_mae: 2532.1074 - val_mse: 29214490.0000\n",
            "Epoch 206/500\n",
            "27/27 [==============================] - 0s 4ms/step - loss: 2713.6467 - mae: 2713.6467 - mse: 34353108.0000 - val_loss: 2526.4150 - val_mae: 2526.4150 - val_mse: 29104176.0000\n",
            "Epoch 207/500\n",
            "27/27 [==============================] - 0s 4ms/step - loss: 2712.2375 - mae: 2712.2375 - mse: 34474172.0000 - val_loss: 2517.3635 - val_mae: 2517.3635 - val_mse: 28997972.0000\n",
            "Epoch 208/500\n",
            "27/27 [==============================] - 0s 4ms/step - loss: 2710.3523 - mae: 2710.3523 - mse: 34126500.0000 - val_loss: 2515.9358 - val_mae: 2515.9358 - val_mse: 28700956.0000\n",
            "Epoch 209/500\n",
            "27/27 [==============================] - 0s 4ms/step - loss: 2707.5295 - mae: 2707.5295 - mse: 34189088.0000 - val_loss: 2513.3398 - val_mae: 2513.3398 - val_mse: 28896536.0000\n",
            "Epoch 210/500\n",
            "27/27 [==============================] - 0s 5ms/step - loss: 2703.2935 - mae: 2703.2935 - mse: 33942596.0000 - val_loss: 2505.0139 - val_mae: 2505.0139 - val_mse: 28450412.0000\n",
            "Epoch 211/500\n",
            "27/27 [==============================] - 0s 4ms/step - loss: 2697.6677 - mae: 2697.6677 - mse: 33913188.0000 - val_loss: 2499.5029 - val_mae: 2499.5029 - val_mse: 28477102.0000\n",
            "Epoch 212/500\n",
            "27/27 [==============================] - 0s 4ms/step - loss: 2696.7673 - mae: 2696.7673 - mse: 33720660.0000 - val_loss: 2500.7109 - val_mae: 2500.7109 - val_mse: 28296414.0000\n",
            "Epoch 213/500\n",
            "27/27 [==============================] - 0s 4ms/step - loss: 2690.8215 - mae: 2690.8215 - mse: 33699124.0000 - val_loss: 2486.9490 - val_mae: 2486.9490 - val_mse: 28131060.0000\n",
            "Epoch 214/500\n",
            "27/27 [==============================] - 0s 4ms/step - loss: 2689.9717 - mae: 2689.9717 - mse: 33471050.0000 - val_loss: 2489.4688 - val_mae: 2489.4688 - val_mse: 28058226.0000\n",
            "Epoch 215/500\n",
            "27/27 [==============================] - 0s 4ms/step - loss: 2687.2112 - mae: 2687.2112 - mse: 33546708.0000 - val_loss: 2483.4746 - val_mae: 2483.4746 - val_mse: 28076822.0000\n",
            "Epoch 216/500\n",
            "27/27 [==============================] - 0s 4ms/step - loss: 2683.1482 - mae: 2683.1482 - mse: 33336896.0000 - val_loss: 2476.6045 - val_mae: 2476.6045 - val_mse: 27844828.0000\n",
            "Epoch 217/500\n",
            "27/27 [==============================] - 0s 4ms/step - loss: 2679.6682 - mae: 2679.6682 - mse: 33299714.0000 - val_loss: 2480.2693 - val_mae: 2480.2693 - val_mse: 27884128.0000\n",
            "Epoch 218/500\n",
            "27/27 [==============================] - 0s 3ms/step - loss: 2675.3838 - mae: 2675.3838 - mse: 33267100.0000 - val_loss: 2467.0295 - val_mae: 2467.0295 - val_mse: 27629190.0000\n",
            "Epoch 219/500\n",
            "27/27 [==============================] - 0s 3ms/step - loss: 2672.9919 - mae: 2672.9919 - mse: 33092210.0000 - val_loss: 2463.3940 - val_mae: 2463.3940 - val_mse: 27424744.0000\n",
            "Epoch 220/500\n",
            "27/27 [==============================] - 0s 4ms/step - loss: 2669.3481 - mae: 2669.3481 - mse: 32918298.0000 - val_loss: 2463.2485 - val_mae: 2463.2485 - val_mse: 27429124.0000\n",
            "Epoch 221/500\n",
            "27/27 [==============================] - 0s 4ms/step - loss: 2665.8452 - mae: 2665.8452 - mse: 32930230.0000 - val_loss: 2452.9480 - val_mae: 2452.9480 - val_mse: 27230754.0000\n",
            "Epoch 222/500\n",
            "27/27 [==============================] - 0s 4ms/step - loss: 2661.9871 - mae: 2661.9871 - mse: 32789216.0000 - val_loss: 2446.7532 - val_mae: 2446.7532 - val_mse: 27126996.0000\n",
            "Epoch 223/500\n",
            "27/27 [==============================] - 0s 4ms/step - loss: 2660.3542 - mae: 2660.3542 - mse: 32653092.0000 - val_loss: 2447.9751 - val_mae: 2447.9751 - val_mse: 26998038.0000\n",
            "Epoch 224/500\n",
            "27/27 [==============================] - 0s 4ms/step - loss: 2660.2578 - mae: 2660.2578 - mse: 32829880.0000 - val_loss: 2437.8306 - val_mae: 2437.8306 - val_mse: 27066990.0000\n",
            "Epoch 225/500\n",
            "27/27 [==============================] - 0s 4ms/step - loss: 2653.6516 - mae: 2653.6516 - mse: 32696554.0000 - val_loss: 2438.8096 - val_mae: 2438.8096 - val_mse: 26981384.0000\n",
            "Epoch 226/500\n",
            "27/27 [==============================] - 0s 4ms/step - loss: 2649.8015 - mae: 2649.8015 - mse: 32572034.0000 - val_loss: 2432.1543 - val_mae: 2432.1543 - val_mse: 26834640.0000\n",
            "Epoch 227/500\n",
            "27/27 [==============================] - 0s 3ms/step - loss: 2646.7712 - mae: 2646.7712 - mse: 32442914.0000 - val_loss: 2428.4692 - val_mae: 2428.4692 - val_mse: 26701300.0000\n",
            "Epoch 228/500\n",
            "27/27 [==============================] - 0s 4ms/step - loss: 2645.4009 - mae: 2645.4009 - mse: 32281430.0000 - val_loss: 2424.8281 - val_mae: 2424.8281 - val_mse: 26468970.0000\n",
            "Epoch 229/500\n",
            "27/27 [==============================] - 0s 4ms/step - loss: 2641.2935 - mae: 2641.2935 - mse: 32179734.0000 - val_loss: 2411.4517 - val_mae: 2411.4517 - val_mse: 26386514.0000\n",
            "Epoch 230/500\n",
            "27/27 [==============================] - 0s 4ms/step - loss: 2637.9617 - mae: 2637.9617 - mse: 32164418.0000 - val_loss: 2409.9634 - val_mae: 2409.9634 - val_mse: 26344170.0000\n",
            "Epoch 231/500\n",
            "27/27 [==============================] - 0s 4ms/step - loss: 2634.6106 - mae: 2634.6106 - mse: 32048584.0000 - val_loss: 2406.7620 - val_mae: 2406.7620 - val_mse: 26192192.0000\n",
            "Epoch 232/500\n",
            "27/27 [==============================] - 0s 4ms/step - loss: 2630.8945 - mae: 2630.8945 - mse: 31927422.0000 - val_loss: 2395.0442 - val_mae: 2395.0442 - val_mse: 25920610.0000\n",
            "Epoch 233/500\n",
            "27/27 [==============================] - 0s 4ms/step - loss: 2626.8328 - mae: 2626.8328 - mse: 31855008.0000 - val_loss: 2395.2563 - val_mae: 2395.2563 - val_mse: 25971326.0000\n",
            "Epoch 234/500\n",
            "27/27 [==============================] - 0s 4ms/step - loss: 2625.1709 - mae: 2625.1709 - mse: 31827152.0000 - val_loss: 2396.4866 - val_mae: 2396.4866 - val_mse: 25911708.0000\n",
            "Epoch 235/500\n",
            "27/27 [==============================] - 0s 4ms/step - loss: 2623.6697 - mae: 2623.6697 - mse: 31623434.0000 - val_loss: 2380.0642 - val_mae: 2380.0642 - val_mse: 25637304.0000\n",
            "Epoch 236/500\n",
            "27/27 [==============================] - 0s 4ms/step - loss: 2619.9434 - mae: 2619.9434 - mse: 31711462.0000 - val_loss: 2376.1909 - val_mae: 2376.1909 - val_mse: 25641382.0000\n",
            "Epoch 237/500\n",
            "27/27 [==============================] - 0s 4ms/step - loss: 2616.9006 - mae: 2616.9006 - mse: 31610868.0000 - val_loss: 2370.4919 - val_mae: 2370.4919 - val_mse: 25514228.0000\n",
            "Epoch 238/500\n",
            "27/27 [==============================] - 0s 5ms/step - loss: 2612.4058 - mae: 2612.4058 - mse: 31382578.0000 - val_loss: 2367.0771 - val_mae: 2367.0771 - val_mse: 25365228.0000\n",
            "Epoch 239/500\n",
            "27/27 [==============================] - 0s 4ms/step - loss: 2608.3440 - mae: 2608.3440 - mse: 31328708.0000 - val_loss: 2365.2710 - val_mae: 2365.2710 - val_mse: 25285908.0000\n",
            "Epoch 240/500\n",
            "27/27 [==============================] - 0s 4ms/step - loss: 2605.0034 - mae: 2605.0034 - mse: 31366848.0000 - val_loss: 2359.1787 - val_mae: 2359.1787 - val_mse: 25297928.0000\n",
            "Epoch 241/500\n",
            "27/27 [==============================] - 0s 4ms/step - loss: 2601.4355 - mae: 2601.4355 - mse: 31256404.0000 - val_loss: 2351.0476 - val_mae: 2351.0476 - val_mse: 25102396.0000\n",
            "Epoch 242/500\n",
            "27/27 [==============================] - 0s 3ms/step - loss: 2598.1658 - mae: 2598.1658 - mse: 31167036.0000 - val_loss: 2344.7866 - val_mae: 2344.7866 - val_mse: 24958786.0000\n",
            "Epoch 243/500\n",
            "27/27 [==============================] - 0s 4ms/step - loss: 2593.7861 - mae: 2593.7861 - mse: 31017558.0000 - val_loss: 2336.1453 - val_mae: 2336.1453 - val_mse: 24793218.0000\n",
            "Epoch 244/500\n",
            "27/27 [==============================] - 0s 4ms/step - loss: 2592.3481 - mae: 2592.3481 - mse: 30918618.0000 - val_loss: 2334.8442 - val_mae: 2334.8442 - val_mse: 24692508.0000\n",
            "Epoch 245/500\n",
            "27/27 [==============================] - 0s 4ms/step - loss: 2587.6577 - mae: 2587.6577 - mse: 30835112.0000 - val_loss: 2329.4158 - val_mae: 2329.4158 - val_mse: 24590432.0000\n",
            "Epoch 246/500\n",
            "27/27 [==============================] - 0s 4ms/step - loss: 2586.9001 - mae: 2586.9001 - mse: 30737464.0000 - val_loss: 2329.9336 - val_mae: 2329.9336 - val_mse: 24590762.0000\n",
            "Epoch 247/500\n",
            "27/27 [==============================] - 0s 4ms/step - loss: 2581.6709 - mae: 2581.6709 - mse: 30771372.0000 - val_loss: 2321.3003 - val_mae: 2321.3003 - val_mse: 24522296.0000\n",
            "Epoch 248/500\n",
            "27/27 [==============================] - 0s 4ms/step - loss: 2579.4585 - mae: 2579.4585 - mse: 30734996.0000 - val_loss: 2314.5684 - val_mae: 2314.5684 - val_mse: 24430920.0000\n",
            "Epoch 249/500\n",
            "27/27 [==============================] - 0s 4ms/step - loss: 2576.6062 - mae: 2576.6062 - mse: 30553518.0000 - val_loss: 2312.0889 - val_mae: 2312.0889 - val_mse: 24277578.0000\n",
            "Epoch 250/500\n",
            "27/27 [==============================] - 0s 4ms/step - loss: 2573.1836 - mae: 2573.1836 - mse: 30619686.0000 - val_loss: 2311.4639 - val_mae: 2311.4639 - val_mse: 24403886.0000\n",
            "Epoch 251/500\n",
            "27/27 [==============================] - 0s 4ms/step - loss: 2569.5552 - mae: 2569.5552 - mse: 30569542.0000 - val_loss: 2304.7434 - val_mae: 2304.7434 - val_mse: 24284392.0000\n",
            "Epoch 252/500\n",
            "27/27 [==============================] - 0s 4ms/step - loss: 2567.8923 - mae: 2567.8923 - mse: 30426296.0000 - val_loss: 2297.7014 - val_mae: 2297.7014 - val_mse: 24092774.0000\n",
            "Epoch 253/500\n",
            "27/27 [==============================] - 0s 4ms/step - loss: 2562.8782 - mae: 2562.8782 - mse: 30397192.0000 - val_loss: 2293.0422 - val_mae: 2293.0422 - val_mse: 24078606.0000\n",
            "Epoch 254/500\n",
            "27/27 [==============================] - 0s 4ms/step - loss: 2560.9907 - mae: 2560.9907 - mse: 30406032.0000 - val_loss: 2291.2646 - val_mae: 2291.2646 - val_mse: 24072238.0000\n",
            "Epoch 255/500\n",
            "27/27 [==============================] - 0s 4ms/step - loss: 2556.9807 - mae: 2556.9807 - mse: 30319882.0000 - val_loss: 2294.8525 - val_mae: 2294.8525 - val_mse: 23963366.0000\n",
            "Epoch 256/500\n",
            "27/27 [==============================] - 0s 4ms/step - loss: 2553.8730 - mae: 2553.8730 - mse: 30216940.0000 - val_loss: 2279.4858 - val_mae: 2279.4858 - val_mse: 23851850.0000\n",
            "Epoch 257/500\n",
            "27/27 [==============================] - 0s 4ms/step - loss: 2549.6047 - mae: 2549.6047 - mse: 30147182.0000 - val_loss: 2281.3696 - val_mae: 2281.3696 - val_mse: 23777782.0000\n",
            "Epoch 258/500\n",
            "27/27 [==============================] - 0s 4ms/step - loss: 2548.8452 - mae: 2548.8452 - mse: 30038270.0000 - val_loss: 2269.9207 - val_mae: 2269.9207 - val_mse: 23600162.0000\n",
            "Epoch 259/500\n",
            "27/27 [==============================] - 0s 4ms/step - loss: 2545.0095 - mae: 2545.0095 - mse: 29976300.0000 - val_loss: 2266.6116 - val_mae: 2266.6116 - val_mse: 23592042.0000\n",
            "Epoch 260/500\n",
            "27/27 [==============================] - 0s 3ms/step - loss: 2540.0366 - mae: 2540.0366 - mse: 29964384.0000 - val_loss: 2261.9001 - val_mae: 2261.9001 - val_mse: 23548738.0000\n",
            "Epoch 261/500\n",
            "27/27 [==============================] - 0s 3ms/step - loss: 2536.9788 - mae: 2536.9788 - mse: 29868610.0000 - val_loss: 2260.4431 - val_mae: 2260.4431 - val_mse: 23477990.0000\n",
            "Epoch 262/500\n",
            "27/27 [==============================] - 0s 4ms/step - loss: 2533.6382 - mae: 2533.6382 - mse: 29831874.0000 - val_loss: 2260.5315 - val_mae: 2260.5315 - val_mse: 23400352.0000\n",
            "Epoch 263/500\n",
            "27/27 [==============================] - 0s 4ms/step - loss: 2530.6965 - mae: 2530.6965 - mse: 29786038.0000 - val_loss: 2248.3477 - val_mae: 2248.3477 - val_mse: 23344382.0000\n",
            "Epoch 264/500\n",
            "27/27 [==============================] - 0s 4ms/step - loss: 2527.8774 - mae: 2527.8774 - mse: 29751658.0000 - val_loss: 2247.1975 - val_mae: 2247.1975 - val_mse: 23298084.0000\n",
            "Epoch 265/500\n",
            "27/27 [==============================] - 0s 4ms/step - loss: 2528.0935 - mae: 2528.0935 - mse: 29828514.0000 - val_loss: 2245.9434 - val_mae: 2245.9434 - val_mse: 23334608.0000\n",
            "Epoch 266/500\n",
            "27/27 [==============================] - 0s 4ms/step - loss: 2525.0388 - mae: 2525.0388 - mse: 29658178.0000 - val_loss: 2240.4180 - val_mae: 2240.4180 - val_mse: 23164152.0000\n",
            "Epoch 267/500\n",
            "27/27 [==============================] - 0s 4ms/step - loss: 2519.9866 - mae: 2519.9866 - mse: 29635848.0000 - val_loss: 2235.4905 - val_mae: 2235.4905 - val_mse: 23150072.0000\n",
            "Epoch 268/500\n",
            "27/27 [==============================] - 0s 5ms/step - loss: 2515.7639 - mae: 2515.7639 - mse: 29564186.0000 - val_loss: 2235.8572 - val_mae: 2235.8572 - val_mse: 23070450.0000\n",
            "Epoch 269/500\n",
            "27/27 [==============================] - 0s 4ms/step - loss: 2514.4573 - mae: 2514.4573 - mse: 29439838.0000 - val_loss: 2224.9690 - val_mae: 2224.9690 - val_mse: 22937038.0000\n",
            "Epoch 270/500\n",
            "27/27 [==============================] - 0s 4ms/step - loss: 2509.0669 - mae: 2509.0669 - mse: 29390222.0000 - val_loss: 2220.0835 - val_mae: 2220.0835 - val_mse: 22887878.0000\n",
            "Epoch 271/500\n",
            "27/27 [==============================] - 0s 4ms/step - loss: 2509.0244 - mae: 2509.0244 - mse: 29416010.0000 - val_loss: 2215.5969 - val_mae: 2215.5969 - val_mse: 22869776.0000\n",
            "Epoch 272/500\n",
            "27/27 [==============================] - 0s 4ms/step - loss: 2506.4304 - mae: 2506.4304 - mse: 29346038.0000 - val_loss: 2210.1343 - val_mae: 2210.1343 - val_mse: 22755024.0000\n",
            "Epoch 273/500\n",
            "27/27 [==============================] - 0s 5ms/step - loss: 2501.5010 - mae: 2501.5010 - mse: 29268466.0000 - val_loss: 2210.4858 - val_mae: 2210.4858 - val_mse: 22718120.0000\n",
            "Epoch 274/500\n",
            "27/27 [==============================] - 0s 4ms/step - loss: 2497.2908 - mae: 2497.2908 - mse: 29226620.0000 - val_loss: 2205.1013 - val_mae: 2205.1013 - val_mse: 22636388.0000\n",
            "Epoch 275/500\n",
            "27/27 [==============================] - 0s 4ms/step - loss: 2495.5779 - mae: 2495.5779 - mse: 29152060.0000 - val_loss: 2201.8931 - val_mae: 2201.8931 - val_mse: 22602008.0000\n",
            "Epoch 276/500\n",
            "27/27 [==============================] - 0s 3ms/step - loss: 2492.4172 - mae: 2492.4172 - mse: 29197326.0000 - val_loss: 2191.9946 - val_mae: 2191.9946 - val_mse: 22552478.0000\n",
            "Epoch 277/500\n",
            "27/27 [==============================] - 0s 4ms/step - loss: 2489.5720 - mae: 2489.5720 - mse: 29116260.0000 - val_loss: 2188.1467 - val_mae: 2188.1467 - val_mse: 22402520.0000\n",
            "Epoch 278/500\n",
            "27/27 [==============================] - 0s 4ms/step - loss: 2486.4526 - mae: 2486.4524 - mse: 28992980.0000 - val_loss: 2177.8979 - val_mae: 2177.8979 - val_mse: 22345958.0000\n",
            "Epoch 279/500\n",
            "27/27 [==============================] - 0s 3ms/step - loss: 2483.4875 - mae: 2483.4875 - mse: 29001874.0000 - val_loss: 2176.4941 - val_mae: 2176.4941 - val_mse: 22340328.0000\n",
            "Epoch 280/500\n",
            "27/27 [==============================] - 0s 4ms/step - loss: 2479.7415 - mae: 2479.7415 - mse: 28952842.0000 - val_loss: 2178.2378 - val_mae: 2178.2378 - val_mse: 22322738.0000\n",
            "Epoch 281/500\n",
            "27/27 [==============================] - 0s 4ms/step - loss: 2473.9971 - mae: 2473.9971 - mse: 28917190.0000 - val_loss: 2168.8555 - val_mae: 2168.8555 - val_mse: 22254240.0000\n",
            "Epoch 282/500\n",
            "27/27 [==============================] - 0s 4ms/step - loss: 2475.3914 - mae: 2475.3914 - mse: 28849546.0000 - val_loss: 2167.7891 - val_mae: 2167.7891 - val_mse: 22158346.0000\n",
            "Epoch 283/500\n",
            "27/27 [==============================] - 0s 3ms/step - loss: 2469.0330 - mae: 2469.0330 - mse: 28814716.0000 - val_loss: 2161.4429 - val_mae: 2161.4429 - val_mse: 22101460.0000\n",
            "Epoch 284/500\n",
            "27/27 [==============================] - 0s 4ms/step - loss: 2470.0862 - mae: 2470.0862 - mse: 28770058.0000 - val_loss: 2153.1714 - val_mae: 2153.1714 - val_mse: 21977676.0000\n",
            "Epoch 285/500\n",
            "27/27 [==============================] - 0s 3ms/step - loss: 2462.3047 - mae: 2462.3047 - mse: 28684592.0000 - val_loss: 2148.4497 - val_mae: 2148.4497 - val_mse: 21960178.0000\n",
            "Epoch 286/500\n",
            "27/27 [==============================] - 0s 4ms/step - loss: 2460.0239 - mae: 2460.0239 - mse: 28665184.0000 - val_loss: 2141.3213 - val_mae: 2141.3213 - val_mse: 21925490.0000\n",
            "Epoch 287/500\n",
            "27/27 [==============================] - 0s 4ms/step - loss: 2457.8655 - mae: 2457.8655 - mse: 28654576.0000 - val_loss: 2142.4458 - val_mae: 2142.4458 - val_mse: 21915172.0000\n",
            "Epoch 288/500\n",
            "27/27 [==============================] - 0s 4ms/step - loss: 2454.0522 - mae: 2454.0522 - mse: 28643272.0000 - val_loss: 2136.0667 - val_mae: 2136.0667 - val_mse: 21845238.0000\n",
            "Epoch 289/500\n",
            "27/27 [==============================] - 0s 3ms/step - loss: 2450.6121 - mae: 2450.6121 - mse: 28563298.0000 - val_loss: 2131.9534 - val_mae: 2131.9534 - val_mse: 21808826.0000\n",
            "Epoch 290/500\n",
            "27/27 [==============================] - 0s 3ms/step - loss: 2449.3071 - mae: 2449.3071 - mse: 28562716.0000 - val_loss: 2124.0974 - val_mae: 2124.0974 - val_mse: 21713616.0000\n",
            "Epoch 291/500\n",
            "27/27 [==============================] - 0s 4ms/step - loss: 2443.7688 - mae: 2443.7688 - mse: 28525504.0000 - val_loss: 2118.1211 - val_mae: 2118.1211 - val_mse: 21701116.0000\n",
            "Epoch 292/500\n",
            "27/27 [==============================] - 0s 4ms/step - loss: 2441.8840 - mae: 2441.8840 - mse: 28475304.0000 - val_loss: 2113.1831 - val_mae: 2113.1831 - val_mse: 21640178.0000\n",
            "Epoch 293/500\n",
            "27/27 [==============================] - 0s 4ms/step - loss: 2437.6721 - mae: 2437.6721 - mse: 28445844.0000 - val_loss: 2108.9675 - val_mae: 2108.9675 - val_mse: 21542726.0000\n",
            "Epoch 294/500\n",
            "27/27 [==============================] - 0s 4ms/step - loss: 2434.3357 - mae: 2434.3357 - mse: 28381778.0000 - val_loss: 2102.5325 - val_mae: 2102.5325 - val_mse: 21531380.0000\n",
            "Epoch 295/500\n",
            "27/27 [==============================] - 0s 3ms/step - loss: 2431.3999 - mae: 2431.3999 - mse: 28334370.0000 - val_loss: 2102.3889 - val_mae: 2102.3889 - val_mse: 21471150.0000\n",
            "Epoch 296/500\n",
            "27/27 [==============================] - 0s 4ms/step - loss: 2427.6521 - mae: 2427.6521 - mse: 28335858.0000 - val_loss: 2101.2568 - val_mae: 2101.2568 - val_mse: 21442076.0000\n",
            "Epoch 297/500\n",
            "27/27 [==============================] - 0s 4ms/step - loss: 2423.8679 - mae: 2423.8679 - mse: 28287746.0000 - val_loss: 2087.9971 - val_mae: 2087.9971 - val_mse: 21377610.0000\n",
            "Epoch 298/500\n",
            "27/27 [==============================] - 0s 4ms/step - loss: 2421.2505 - mae: 2421.2505 - mse: 28237064.0000 - val_loss: 2083.5730 - val_mae: 2083.5730 - val_mse: 21324266.0000\n",
            "Epoch 299/500\n",
            "27/27 [==============================] - 0s 4ms/step - loss: 2417.9741 - mae: 2417.9741 - mse: 28226450.0000 - val_loss: 2080.6604 - val_mae: 2080.6604 - val_mse: 21298860.0000\n",
            "Epoch 300/500\n",
            "27/27 [==============================] - 0s 4ms/step - loss: 2416.0630 - mae: 2416.0630 - mse: 28222648.0000 - val_loss: 2077.2244 - val_mae: 2077.2244 - val_mse: 21247620.0000\n",
            "Epoch 301/500\n",
            "27/27 [==============================] - 0s 4ms/step - loss: 2413.0603 - mae: 2413.0603 - mse: 28146546.0000 - val_loss: 2070.7168 - val_mae: 2070.7168 - val_mse: 21195580.0000\n",
            "Epoch 302/500\n",
            "27/27 [==============================] - 0s 5ms/step - loss: 2407.4146 - mae: 2407.4146 - mse: 28136354.0000 - val_loss: 2063.0413 - val_mae: 2063.0413 - val_mse: 21163992.0000\n",
            "Epoch 303/500\n",
            "27/27 [==============================] - 0s 4ms/step - loss: 2405.4785 - mae: 2405.4785 - mse: 28112346.0000 - val_loss: 2057.6250 - val_mae: 2057.6250 - val_mse: 21107818.0000\n",
            "Epoch 304/500\n",
            "27/27 [==============================] - 0s 3ms/step - loss: 2399.9980 - mae: 2399.9980 - mse: 28076836.0000 - val_loss: 2055.1045 - val_mae: 2055.1045 - val_mse: 21053114.0000\n",
            "Epoch 305/500\n",
            "27/27 [==============================] - 0s 4ms/step - loss: 2397.6018 - mae: 2397.6018 - mse: 28053094.0000 - val_loss: 2046.1738 - val_mae: 2046.1738 - val_mse: 21016124.0000\n",
            "Epoch 306/500\n",
            "27/27 [==============================] - 0s 4ms/step - loss: 2393.7117 - mae: 2393.7117 - mse: 27998002.0000 - val_loss: 2041.7738 - val_mae: 2041.7738 - val_mse: 20965954.0000\n",
            "Epoch 307/500\n",
            "27/27 [==============================] - 0s 4ms/step - loss: 2391.3901 - mae: 2391.3901 - mse: 28003562.0000 - val_loss: 2039.8667 - val_mae: 2039.8667 - val_mse: 20937260.0000\n",
            "Epoch 308/500\n",
            "27/27 [==============================] - 0s 4ms/step - loss: 2388.7712 - mae: 2388.7712 - mse: 27963904.0000 - val_loss: 2034.6823 - val_mae: 2034.6823 - val_mse: 20910056.0000\n",
            "Epoch 309/500\n",
            "27/27 [==============================] - 0s 4ms/step - loss: 2384.1321 - mae: 2384.1321 - mse: 27950918.0000 - val_loss: 2028.2278 - val_mae: 2028.2278 - val_mse: 20862138.0000\n",
            "Epoch 310/500\n",
            "27/27 [==============================] - 0s 5ms/step - loss: 2381.6660 - mae: 2381.6660 - mse: 27927470.0000 - val_loss: 2020.8572 - val_mae: 2020.8572 - val_mse: 20816766.0000\n",
            "Epoch 311/500\n",
            "27/27 [==============================] - 0s 4ms/step - loss: 2377.1226 - mae: 2377.1226 - mse: 27907648.0000 - val_loss: 2018.6976 - val_mae: 2018.6976 - val_mse: 20802498.0000\n",
            "Epoch 312/500\n",
            "27/27 [==============================] - 0s 4ms/step - loss: 2375.5540 - mae: 2375.5540 - mse: 27887324.0000 - val_loss: 2012.5811 - val_mae: 2012.5811 - val_mse: 20755460.0000\n",
            "Epoch 313/500\n",
            "27/27 [==============================] - 0s 4ms/step - loss: 2371.6826 - mae: 2371.6826 - mse: 27861264.0000 - val_loss: 2010.3651 - val_mae: 2010.3651 - val_mse: 20743426.0000\n",
            "Epoch 314/500\n",
            "27/27 [==============================] - 0s 4ms/step - loss: 2367.3997 - mae: 2367.3997 - mse: 27824144.0000 - val_loss: 2003.8407 - val_mae: 2003.8407 - val_mse: 20686736.0000\n",
            "Epoch 315/500\n",
            "27/27 [==============================] - 0s 4ms/step - loss: 2365.6467 - mae: 2365.6467 - mse: 27843252.0000 - val_loss: 2000.7115 - val_mae: 2000.7115 - val_mse: 20664898.0000\n",
            "Epoch 316/500\n",
            "27/27 [==============================] - 0s 4ms/step - loss: 2360.8760 - mae: 2360.8760 - mse: 27805530.0000 - val_loss: 1996.3302 - val_mae: 1996.3302 - val_mse: 20626224.0000\n",
            "Epoch 317/500\n",
            "27/27 [==============================] - 0s 5ms/step - loss: 2357.5984 - mae: 2357.5984 - mse: 27805036.0000 - val_loss: 1996.1837 - val_mae: 1996.1837 - val_mse: 20595824.0000\n",
            "Epoch 318/500\n",
            "27/27 [==============================] - 0s 4ms/step - loss: 2353.5342 - mae: 2353.5342 - mse: 27784676.0000 - val_loss: 1987.1042 - val_mae: 1987.1042 - val_mse: 20588556.0000\n",
            "Epoch 319/500\n",
            "27/27 [==============================] - 0s 4ms/step - loss: 2350.5747 - mae: 2350.5747 - mse: 27756890.0000 - val_loss: 1981.3762 - val_mae: 1981.3762 - val_mse: 20520854.0000\n",
            "Epoch 320/500\n",
            "27/27 [==============================] - 0s 4ms/step - loss: 2347.9758 - mae: 2347.9758 - mse: 27738632.0000 - val_loss: 1979.8065 - val_mae: 1979.8065 - val_mse: 20523776.0000\n",
            "Epoch 321/500\n",
            "27/27 [==============================] - 0s 4ms/step - loss: 2344.9138 - mae: 2344.9138 - mse: 27747296.0000 - val_loss: 1986.5388 - val_mae: 1986.5388 - val_mse: 20462812.0000\n",
            "Epoch 322/500\n",
            "27/27 [==============================] - 0s 4ms/step - loss: 2340.9109 - mae: 2340.9109 - mse: 27717018.0000 - val_loss: 1971.3710 - val_mae: 1971.3710 - val_mse: 20448240.0000\n",
            "Epoch 323/500\n",
            "27/27 [==============================] - 0s 4ms/step - loss: 2337.4006 - mae: 2337.4006 - mse: 27704154.0000 - val_loss: 1962.9226 - val_mae: 1962.9226 - val_mse: 20437212.0000\n",
            "Epoch 324/500\n",
            "27/27 [==============================] - 0s 4ms/step - loss: 2334.3115 - mae: 2334.3115 - mse: 27653718.0000 - val_loss: 1958.3529 - val_mae: 1958.3529 - val_mse: 20422788.0000\n",
            "Epoch 325/500\n",
            "27/27 [==============================] - 0s 4ms/step - loss: 2329.9424 - mae: 2329.9424 - mse: 27677078.0000 - val_loss: 1956.7915 - val_mae: 1956.7915 - val_mse: 20372336.0000\n",
            "Epoch 326/500\n",
            "27/27 [==============================] - 0s 4ms/step - loss: 2326.9639 - mae: 2326.9639 - mse: 27653340.0000 - val_loss: 1952.2119 - val_mae: 1952.2119 - val_mse: 20353874.0000\n",
            "Epoch 327/500\n",
            "27/27 [==============================] - 0s 4ms/step - loss: 2323.3252 - mae: 2323.3252 - mse: 27637438.0000 - val_loss: 1956.7856 - val_mae: 1956.7856 - val_mse: 20314352.0000\n",
            "Epoch 328/500\n",
            "27/27 [==============================] - 0s 4ms/step - loss: 2321.0759 - mae: 2321.0759 - mse: 27608840.0000 - val_loss: 1945.1385 - val_mae: 1945.1385 - val_mse: 20310756.0000\n",
            "Epoch 329/500\n",
            "27/27 [==============================] - 0s 4ms/step - loss: 2317.0549 - mae: 2317.0549 - mse: 27609982.0000 - val_loss: 1942.6013 - val_mae: 1942.6013 - val_mse: 20308472.0000\n",
            "Epoch 330/500\n",
            "27/27 [==============================] - 0s 4ms/step - loss: 2314.3906 - mae: 2314.3906 - mse: 27598536.0000 - val_loss: 1939.2334 - val_mae: 1939.2334 - val_mse: 20286790.0000\n",
            "Epoch 331/500\n",
            "27/27 [==============================] - 0s 4ms/step - loss: 2314.4673 - mae: 2314.4673 - mse: 27589676.0000 - val_loss: 1938.4760 - val_mae: 1938.4760 - val_mse: 20270182.0000\n",
            "Epoch 332/500\n",
            "27/27 [==============================] - 0s 4ms/step - loss: 2310.5430 - mae: 2310.5430 - mse: 27587666.0000 - val_loss: 1932.5233 - val_mae: 1932.5233 - val_mse: 20278420.0000\n",
            "Epoch 333/500\n",
            "27/27 [==============================] - 0s 4ms/step - loss: 2308.8945 - mae: 2308.8945 - mse: 27597730.0000 - val_loss: 1932.8866 - val_mae: 1932.8866 - val_mse: 20214336.0000\n",
            "Epoch 334/500\n",
            "27/27 [==============================] - 0s 4ms/step - loss: 2305.0728 - mae: 2305.0728 - mse: 27556888.0000 - val_loss: 1930.3518 - val_mae: 1930.3518 - val_mse: 20203732.0000\n",
            "Epoch 335/500\n",
            "27/27 [==============================] - 0s 4ms/step - loss: 2303.1997 - mae: 2303.1997 - mse: 27564926.0000 - val_loss: 1925.7402 - val_mae: 1925.7402 - val_mse: 20209250.0000\n",
            "Epoch 336/500\n",
            "27/27 [==============================] - 0s 4ms/step - loss: 2300.9675 - mae: 2300.9675 - mse: 27534248.0000 - val_loss: 1927.1843 - val_mae: 1927.1843 - val_mse: 20159404.0000\n",
            "Epoch 337/500\n",
            "27/27 [==============================] - 0s 4ms/step - loss: 2296.9343 - mae: 2296.9343 - mse: 27541932.0000 - val_loss: 1921.3284 - val_mae: 1921.3284 - val_mse: 20176980.0000\n",
            "Epoch 338/500\n",
            "27/27 [==============================] - 0s 3ms/step - loss: 2295.6077 - mae: 2295.6077 - mse: 27508460.0000 - val_loss: 1920.1124 - val_mae: 1920.1124 - val_mse: 20127012.0000\n",
            "Epoch 339/500\n",
            "27/27 [==============================] - 0s 4ms/step - loss: 2293.2471 - mae: 2293.2471 - mse: 27534942.0000 - val_loss: 1920.8641 - val_mae: 1920.8641 - val_mse: 20106628.0000\n",
            "Epoch 340/500\n",
            "27/27 [==============================] - 0s 3ms/step - loss: 2292.5210 - mae: 2292.5210 - mse: 27500826.0000 - val_loss: 1918.5409 - val_mae: 1918.5409 - val_mse: 20092294.0000\n",
            "Epoch 341/500\n",
            "27/27 [==============================] - 0s 4ms/step - loss: 2293.7937 - mae: 2293.7937 - mse: 27474394.0000 - val_loss: 1913.6948 - val_mae: 1913.6948 - val_mse: 20091516.0000\n",
            "Epoch 342/500\n",
            "27/27 [==============================] - 0s 4ms/step - loss: 2287.7036 - mae: 2287.7036 - mse: 27466192.0000 - val_loss: 1908.4315 - val_mae: 1908.4315 - val_mse: 20091516.0000\n",
            "Epoch 343/500\n",
            "27/27 [==============================] - 0s 4ms/step - loss: 2285.7378 - mae: 2285.7378 - mse: 27471740.0000 - val_loss: 1906.4481 - val_mae: 1906.4481 - val_mse: 20070970.0000\n",
            "Epoch 344/500\n",
            "27/27 [==============================] - 0s 4ms/step - loss: 2283.5933 - mae: 2283.5933 - mse: 27454752.0000 - val_loss: 1904.4586 - val_mae: 1904.4586 - val_mse: 20064588.0000\n",
            "Epoch 345/500\n",
            "27/27 [==============================] - 0s 4ms/step - loss: 2280.4954 - mae: 2280.4954 - mse: 27455060.0000 - val_loss: 1904.0570 - val_mae: 1904.0570 - val_mse: 20029294.0000\n",
            "Epoch 346/500\n",
            "27/27 [==============================] - 0s 4ms/step - loss: 2279.4072 - mae: 2279.4072 - mse: 27441650.0000 - val_loss: 1900.3364 - val_mae: 1900.3364 - val_mse: 20053418.0000\n",
            "Epoch 347/500\n",
            "27/27 [==============================] - 0s 4ms/step - loss: 2277.8428 - mae: 2277.8428 - mse: 27430900.0000 - val_loss: 1899.1586 - val_mae: 1899.1586 - val_mse: 20049242.0000\n",
            "Epoch 348/500\n",
            "27/27 [==============================] - 0s 4ms/step - loss: 2273.6448 - mae: 2273.6448 - mse: 27409818.0000 - val_loss: 1897.5759 - val_mae: 1897.5759 - val_mse: 20030760.0000\n",
            "Epoch 349/500\n",
            "27/27 [==============================] - 0s 5ms/step - loss: 2274.6606 - mae: 2274.6606 - mse: 27401592.0000 - val_loss: 1899.1528 - val_mae: 1899.1528 - val_mse: 19991464.0000\n",
            "Epoch 350/500\n",
            "27/27 [==============================] - 0s 5ms/step - loss: 2271.9390 - mae: 2271.9390 - mse: 27408714.0000 - val_loss: 1897.0652 - val_mae: 1897.0652 - val_mse: 19979436.0000\n",
            "Epoch 351/500\n",
            "27/27 [==============================] - 0s 4ms/step - loss: 2272.1755 - mae: 2272.1755 - mse: 27420890.0000 - val_loss: 1896.9042 - val_mae: 1896.9042 - val_mse: 19974380.0000\n",
            "Epoch 352/500\n",
            "27/27 [==============================] - 0s 4ms/step - loss: 2268.7288 - mae: 2268.7288 - mse: 27356950.0000 - val_loss: 1890.1610 - val_mae: 1890.1610 - val_mse: 19986970.0000\n",
            "Epoch 353/500\n",
            "27/27 [==============================] - 0s 4ms/step - loss: 2265.0339 - mae: 2265.0339 - mse: 27348176.0000 - val_loss: 1891.1443 - val_mae: 1891.1442 - val_mse: 19969660.0000\n",
            "Epoch 354/500\n",
            "27/27 [==============================] - 0s 4ms/step - loss: 2265.2214 - mae: 2265.2214 - mse: 27341020.0000 - val_loss: 1885.9467 - val_mae: 1885.9467 - val_mse: 19952826.0000\n",
            "Epoch 355/500\n",
            "27/27 [==============================] - 0s 4ms/step - loss: 2261.4551 - mae: 2261.4551 - mse: 27341420.0000 - val_loss: 1883.2743 - val_mae: 1883.2743 - val_mse: 19977988.0000\n",
            "Epoch 356/500\n",
            "27/27 [==============================] - 0s 4ms/step - loss: 2260.0828 - mae: 2260.0828 - mse: 27326236.0000 - val_loss: 1884.4971 - val_mae: 1884.4971 - val_mse: 19919480.0000\n",
            "Epoch 357/500\n",
            "27/27 [==============================] - 0s 4ms/step - loss: 2257.9646 - mae: 2257.9646 - mse: 27303614.0000 - val_loss: 1881.4172 - val_mae: 1881.4172 - val_mse: 19937758.0000\n",
            "Epoch 358/500\n",
            "27/27 [==============================] - 0s 4ms/step - loss: 2254.2966 - mae: 2254.2966 - mse: 27300166.0000 - val_loss: 1882.5468 - val_mae: 1882.5468 - val_mse: 19909236.0000\n",
            "Epoch 359/500\n",
            "27/27 [==============================] - 0s 4ms/step - loss: 2254.4229 - mae: 2254.4229 - mse: 27275308.0000 - val_loss: 1877.7253 - val_mae: 1877.7253 - val_mse: 19935176.0000\n",
            "Epoch 360/500\n",
            "27/27 [==============================] - 0s 4ms/step - loss: 2252.3521 - mae: 2252.3521 - mse: 27281898.0000 - val_loss: 1873.8840 - val_mae: 1873.8840 - val_mse: 19924042.0000\n",
            "Epoch 361/500\n",
            "27/27 [==============================] - 0s 4ms/step - loss: 2250.8447 - mae: 2250.8447 - mse: 27270770.0000 - val_loss: 1872.2003 - val_mae: 1872.2003 - val_mse: 19909718.0000\n",
            "Epoch 362/500\n",
            "27/27 [==============================] - 0s 4ms/step - loss: 2247.7615 - mae: 2247.7615 - mse: 27268972.0000 - val_loss: 1869.0233 - val_mae: 1869.0233 - val_mse: 19928906.0000\n",
            "Epoch 363/500\n",
            "27/27 [==============================] - 0s 4ms/step - loss: 2248.1111 - mae: 2248.1111 - mse: 27278492.0000 - val_loss: 1868.6160 - val_mae: 1868.6160 - val_mse: 19903300.0000\n",
            "Epoch 364/500\n",
            "27/27 [==============================] - 0s 4ms/step - loss: 2243.7666 - mae: 2243.7666 - mse: 27238232.0000 - val_loss: 1869.4928 - val_mae: 1869.4928 - val_mse: 19864478.0000\n",
            "Epoch 365/500\n",
            "27/27 [==============================] - 0s 4ms/step - loss: 2243.6609 - mae: 2243.6609 - mse: 27249310.0000 - val_loss: 1864.3005 - val_mae: 1864.3005 - val_mse: 19881666.0000\n",
            "Epoch 366/500\n",
            "27/27 [==============================] - 0s 5ms/step - loss: 2240.5479 - mae: 2240.5479 - mse: 27230200.0000 - val_loss: 1863.2303 - val_mae: 1863.2303 - val_mse: 19854038.0000\n",
            "Epoch 367/500\n",
            "27/27 [==============================] - 0s 4ms/step - loss: 2239.1965 - mae: 2239.1965 - mse: 27206444.0000 - val_loss: 1863.5421 - val_mae: 1863.5421 - val_mse: 19852656.0000\n",
            "Epoch 368/500\n",
            "27/27 [==============================] - 0s 4ms/step - loss: 2238.5474 - mae: 2238.5474 - mse: 27220308.0000 - val_loss: 1860.9635 - val_mae: 1860.9635 - val_mse: 19844976.0000\n",
            "Epoch 369/500\n",
            "27/27 [==============================] - 0s 4ms/step - loss: 2236.5027 - mae: 2236.5027 - mse: 27212608.0000 - val_loss: 1855.4554 - val_mae: 1855.4554 - val_mse: 19881242.0000\n",
            "Epoch 370/500\n",
            "27/27 [==============================] - 0s 3ms/step - loss: 2234.3398 - mae: 2234.3398 - mse: 27183700.0000 - val_loss: 1854.1420 - val_mae: 1854.1420 - val_mse: 19863616.0000\n",
            "Epoch 371/500\n",
            "27/27 [==============================] - 0s 4ms/step - loss: 2235.7502 - mae: 2235.7502 - mse: 27198018.0000 - val_loss: 1852.6888 - val_mae: 1852.6888 - val_mse: 19830004.0000\n",
            "Epoch 372/500\n",
            "27/27 [==============================] - 0s 4ms/step - loss: 2234.2825 - mae: 2234.2825 - mse: 27201840.0000 - val_loss: 1849.8268 - val_mae: 1849.8268 - val_mse: 19865590.0000\n",
            "Epoch 373/500\n",
            "27/27 [==============================] - 0s 4ms/step - loss: 2232.1824 - mae: 2232.1824 - mse: 27200060.0000 - val_loss: 1848.7231 - val_mae: 1848.7231 - val_mse: 19833536.0000\n",
            "Epoch 374/500\n",
            "27/27 [==============================] - 0s 4ms/step - loss: 2229.8955 - mae: 2229.8955 - mse: 27207728.0000 - val_loss: 1848.6980 - val_mae: 1848.6980 - val_mse: 19836682.0000\n",
            "Epoch 375/500\n",
            "27/27 [==============================] - 0s 4ms/step - loss: 2230.5652 - mae: 2230.5652 - mse: 27160112.0000 - val_loss: 1845.9382 - val_mae: 1845.9382 - val_mse: 19809180.0000\n",
            "Epoch 376/500\n",
            "27/27 [==============================] - 0s 4ms/step - loss: 2225.1057 - mae: 2225.1057 - mse: 27133640.0000 - val_loss: 1846.8914 - val_mae: 1846.8914 - val_mse: 19780042.0000\n",
            "Epoch 377/500\n",
            "27/27 [==============================] - 0s 4ms/step - loss: 2225.0645 - mae: 2225.0645 - mse: 27124628.0000 - val_loss: 1844.0978 - val_mae: 1844.0978 - val_mse: 19779064.0000\n",
            "Epoch 378/500\n",
            "27/27 [==============================] - 0s 4ms/step - loss: 2223.0466 - mae: 2223.0466 - mse: 27171930.0000 - val_loss: 1841.1874 - val_mae: 1841.1874 - val_mse: 19794996.0000\n",
            "Epoch 379/500\n",
            "27/27 [==============================] - 0s 4ms/step - loss: 2220.9031 - mae: 2220.9031 - mse: 27140552.0000 - val_loss: 1838.5034 - val_mae: 1838.5034 - val_mse: 19783754.0000\n",
            "Epoch 380/500\n",
            "27/27 [==============================] - 0s 4ms/step - loss: 2220.5449 - mae: 2220.5449 - mse: 27141928.0000 - val_loss: 1834.4779 - val_mae: 1834.4779 - val_mse: 19814252.0000\n",
            "Epoch 381/500\n",
            "27/27 [==============================] - 0s 5ms/step - loss: 2219.4358 - mae: 2219.4358 - mse: 27135098.0000 - val_loss: 1835.1160 - val_mae: 1835.1160 - val_mse: 19789076.0000\n",
            "Epoch 382/500\n",
            "27/27 [==============================] - 0s 4ms/step - loss: 2217.2939 - mae: 2217.2939 - mse: 27102560.0000 - val_loss: 1832.3231 - val_mae: 1832.3230 - val_mse: 19775034.0000\n",
            "Epoch 383/500\n",
            "27/27 [==============================] - 0s 4ms/step - loss: 2216.9939 - mae: 2216.9939 - mse: 27132808.0000 - val_loss: 1830.3956 - val_mae: 1830.3956 - val_mse: 19789324.0000\n",
            "Epoch 384/500\n",
            "27/27 [==============================] - 0s 4ms/step - loss: 2214.5950 - mae: 2214.5950 - mse: 27113382.0000 - val_loss: 1831.8450 - val_mae: 1831.8450 - val_mse: 19747062.0000\n",
            "Epoch 385/500\n",
            "27/27 [==============================] - 0s 4ms/step - loss: 2211.6880 - mae: 2211.6880 - mse: 27102188.0000 - val_loss: 1829.7941 - val_mae: 1829.7941 - val_mse: 19740718.0000\n",
            "Epoch 386/500\n",
            "27/27 [==============================] - 0s 4ms/step - loss: 2211.9023 - mae: 2211.9023 - mse: 27084870.0000 - val_loss: 1823.1407 - val_mae: 1823.1407 - val_mse: 19777318.0000\n",
            "Epoch 387/500\n",
            "27/27 [==============================] - 0s 4ms/step - loss: 2212.6350 - mae: 2212.6350 - mse: 27090668.0000 - val_loss: 1822.6765 - val_mae: 1822.6765 - val_mse: 19786126.0000\n",
            "Epoch 388/500\n",
            "27/27 [==============================] - 0s 4ms/step - loss: 2210.4324 - mae: 2210.4324 - mse: 27109414.0000 - val_loss: 1824.4075 - val_mae: 1824.4075 - val_mse: 19738248.0000\n",
            "Epoch 389/500\n",
            "27/27 [==============================] - 0s 4ms/step - loss: 2207.7600 - mae: 2207.7600 - mse: 27109740.0000 - val_loss: 1826.8904 - val_mae: 1826.8904 - val_mse: 19690804.0000\n",
            "Epoch 390/500\n",
            "27/27 [==============================] - 0s 4ms/step - loss: 2206.3960 - mae: 2206.3960 - mse: 27031942.0000 - val_loss: 1818.4507 - val_mae: 1818.4507 - val_mse: 19704392.0000\n",
            "Epoch 391/500\n",
            "27/27 [==============================] - 0s 4ms/step - loss: 2205.8335 - mae: 2205.8335 - mse: 27091646.0000 - val_loss: 1819.8573 - val_mae: 1819.8573 - val_mse: 19697604.0000\n",
            "Epoch 392/500\n",
            "27/27 [==============================] - 0s 4ms/step - loss: 2204.1809 - mae: 2204.1809 - mse: 27058360.0000 - val_loss: 1815.7448 - val_mae: 1815.7448 - val_mse: 19707614.0000\n",
            "Epoch 393/500\n",
            "27/27 [==============================] - 0s 4ms/step - loss: 2202.8860 - mae: 2202.8860 - mse: 27058614.0000 - val_loss: 1820.8461 - val_mae: 1820.8461 - val_mse: 19653970.0000\n",
            "Epoch 394/500\n",
            "27/27 [==============================] - 0s 4ms/step - loss: 2202.2390 - mae: 2202.2390 - mse: 27039108.0000 - val_loss: 1808.8615 - val_mae: 1808.8615 - val_mse: 19692052.0000\n",
            "Epoch 395/500\n",
            "27/27 [==============================] - 0s 4ms/step - loss: 2201.0842 - mae: 2201.0842 - mse: 27047616.0000 - val_loss: 1809.8818 - val_mae: 1809.8818 - val_mse: 19675236.0000\n",
            "Epoch 396/500\n",
            "27/27 [==============================] - 0s 4ms/step - loss: 2198.6179 - mae: 2198.6179 - mse: 27040646.0000 - val_loss: 1808.1066 - val_mae: 1808.1066 - val_mse: 19679400.0000\n",
            "Epoch 397/500\n",
            "27/27 [==============================] - 0s 4ms/step - loss: 2198.4258 - mae: 2198.4258 - mse: 26991322.0000 - val_loss: 1802.6104 - val_mae: 1802.6104 - val_mse: 19734490.0000\n",
            "Epoch 398/500\n",
            "27/27 [==============================] - 0s 3ms/step - loss: 2196.4436 - mae: 2196.4436 - mse: 27003492.0000 - val_loss: 1800.9384 - val_mae: 1800.9384 - val_mse: 19707840.0000\n",
            "Epoch 399/500\n",
            "27/27 [==============================] - 0s 4ms/step - loss: 2195.4502 - mae: 2195.4502 - mse: 27015132.0000 - val_loss: 1803.3666 - val_mae: 1803.3666 - val_mse: 19649868.0000\n",
            "Epoch 400/500\n",
            "27/27 [==============================] - 0s 4ms/step - loss: 2193.6716 - mae: 2193.6716 - mse: 27007778.0000 - val_loss: 1801.9227 - val_mae: 1801.9227 - val_mse: 19665100.0000\n",
            "Epoch 401/500\n",
            "27/27 [==============================] - 0s 4ms/step - loss: 2191.9893 - mae: 2191.9893 - mse: 27016072.0000 - val_loss: 1800.1420 - val_mae: 1800.1420 - val_mse: 19647680.0000\n",
            "Epoch 402/500\n",
            "27/27 [==============================] - 0s 4ms/step - loss: 2191.4678 - mae: 2191.4678 - mse: 27001660.0000 - val_loss: 1798.5529 - val_mae: 1798.5529 - val_mse: 19640790.0000\n",
            "Epoch 403/500\n",
            "27/27 [==============================] - 0s 4ms/step - loss: 2188.7317 - mae: 2188.7317 - mse: 26943120.0000 - val_loss: 1791.8661 - val_mae: 1791.8661 - val_mse: 19670842.0000\n",
            "Epoch 404/500\n",
            "27/27 [==============================] - 0s 4ms/step - loss: 2189.3010 - mae: 2189.3010 - mse: 26967322.0000 - val_loss: 1792.2815 - val_mae: 1792.2815 - val_mse: 19649112.0000\n",
            "Epoch 405/500\n",
            "27/27 [==============================] - 0s 4ms/step - loss: 2188.7178 - mae: 2188.7178 - mse: 26981604.0000 - val_loss: 1792.1954 - val_mae: 1792.1954 - val_mse: 19634424.0000\n",
            "Epoch 406/500\n",
            "27/27 [==============================] - 0s 4ms/step - loss: 2184.7332 - mae: 2184.7332 - mse: 26948488.0000 - val_loss: 1788.7983 - val_mae: 1788.7983 - val_mse: 19631252.0000\n",
            "Epoch 407/500\n",
            "27/27 [==============================] - 0s 4ms/step - loss: 2186.0339 - mae: 2186.0339 - mse: 27002420.0000 - val_loss: 1792.0911 - val_mae: 1792.0911 - val_mse: 19607580.0000\n",
            "Epoch 408/500\n",
            "27/27 [==============================] - 0s 4ms/step - loss: 2183.3748 - mae: 2183.3748 - mse: 26955716.0000 - val_loss: 1789.1196 - val_mae: 1789.1196 - val_mse: 19576526.0000\n",
            "Epoch 409/500\n",
            "27/27 [==============================] - 0s 4ms/step - loss: 2182.4648 - mae: 2182.4648 - mse: 26916886.0000 - val_loss: 1782.6066 - val_mae: 1782.6066 - val_mse: 19587690.0000\n",
            "Epoch 410/500\n",
            "27/27 [==============================] - 0s 4ms/step - loss: 2179.1318 - mae: 2179.1318 - mse: 26939694.0000 - val_loss: 1779.0801 - val_mae: 1779.0801 - val_mse: 19597036.0000\n",
            "Epoch 411/500\n",
            "27/27 [==============================] - 0s 4ms/step - loss: 2180.1328 - mae: 2180.1328 - mse: 26903648.0000 - val_loss: 1776.6241 - val_mae: 1776.6241 - val_mse: 19606468.0000\n",
            "Epoch 412/500\n",
            "27/27 [==============================] - 0s 4ms/step - loss: 2178.5222 - mae: 2178.5222 - mse: 26961542.0000 - val_loss: 1777.5178 - val_mae: 1777.5178 - val_mse: 19586540.0000\n",
            "Epoch 413/500\n",
            "27/27 [==============================] - 0s 4ms/step - loss: 2175.3821 - mae: 2175.3821 - mse: 26915124.0000 - val_loss: 1772.7441 - val_mae: 1772.7443 - val_mse: 19613246.0000\n",
            "Epoch 414/500\n",
            "27/27 [==============================] - 0s 3ms/step - loss: 2173.5876 - mae: 2173.5876 - mse: 26931666.0000 - val_loss: 1776.3934 - val_mae: 1776.3934 - val_mse: 19533666.0000\n",
            "Epoch 415/500\n",
            "27/27 [==============================] - 0s 4ms/step - loss: 2172.1804 - mae: 2172.1804 - mse: 26914794.0000 - val_loss: 1767.5579 - val_mae: 1767.5579 - val_mse: 19627008.0000\n",
            "Epoch 416/500\n",
            "27/27 [==============================] - 0s 4ms/step - loss: 2172.7446 - mae: 2172.7446 - mse: 26944866.0000 - val_loss: 1767.9834 - val_mae: 1767.9834 - val_mse: 19589170.0000\n",
            "Epoch 417/500\n",
            "27/27 [==============================] - 0s 4ms/step - loss: 2170.9875 - mae: 2170.9875 - mse: 26877646.0000 - val_loss: 1767.2484 - val_mae: 1767.2484 - val_mse: 19573806.0000\n",
            "Epoch 418/500\n",
            "27/27 [==============================] - 0s 4ms/step - loss: 2166.9631 - mae: 2166.9631 - mse: 26889276.0000 - val_loss: 1764.1130 - val_mae: 1764.1130 - val_mse: 19584712.0000\n",
            "Epoch 419/500\n",
            "27/27 [==============================] - 0s 5ms/step - loss: 2166.8501 - mae: 2166.8501 - mse: 26883326.0000 - val_loss: 1766.6482 - val_mae: 1766.6482 - val_mse: 19526638.0000\n",
            "Epoch 420/500\n",
            "27/27 [==============================] - 0s 4ms/step - loss: 2164.8003 - mae: 2164.8003 - mse: 26874170.0000 - val_loss: 1762.3632 - val_mae: 1762.3632 - val_mse: 19559640.0000\n",
            "Epoch 421/500\n",
            "27/27 [==============================] - 0s 4ms/step - loss: 2163.0449 - mae: 2163.0449 - mse: 26867562.0000 - val_loss: 1759.8354 - val_mae: 1759.8354 - val_mse: 19528762.0000\n",
            "Epoch 422/500\n",
            "27/27 [==============================] - 0s 4ms/step - loss: 2160.6760 - mae: 2160.6760 - mse: 26884178.0000 - val_loss: 1757.7611 - val_mae: 1757.7611 - val_mse: 19541258.0000\n",
            "Epoch 423/500\n",
            "27/27 [==============================] - 0s 4ms/step - loss: 2160.7117 - mae: 2160.7117 - mse: 26828444.0000 - val_loss: 1755.0291 - val_mae: 1755.0291 - val_mse: 19564930.0000\n",
            "Epoch 424/500\n",
            "27/27 [==============================] - 0s 3ms/step - loss: 2160.0500 - mae: 2160.0500 - mse: 26843692.0000 - val_loss: 1753.0201 - val_mae: 1753.0201 - val_mse: 19522558.0000\n",
            "Epoch 425/500\n",
            "27/27 [==============================] - 0s 4ms/step - loss: 2157.4058 - mae: 2157.4058 - mse: 26863420.0000 - val_loss: 1751.6460 - val_mae: 1751.6460 - val_mse: 19540808.0000\n",
            "Epoch 426/500\n",
            "27/27 [==============================] - 0s 4ms/step - loss: 2155.5200 - mae: 2155.5200 - mse: 26842786.0000 - val_loss: 1751.8302 - val_mae: 1751.8302 - val_mse: 19524978.0000\n",
            "Epoch 427/500\n",
            "27/27 [==============================] - 0s 4ms/step - loss: 2157.3672 - mae: 2157.3672 - mse: 26865404.0000 - val_loss: 1754.2528 - val_mae: 1754.2528 - val_mse: 19499186.0000\n",
            "Epoch 428/500\n",
            "27/27 [==============================] - 0s 4ms/step - loss: 2158.3335 - mae: 2158.3335 - mse: 26851790.0000 - val_loss: 1756.7330 - val_mae: 1756.7330 - val_mse: 19454010.0000\n",
            "Epoch 429/500\n",
            "27/27 [==============================] - 0s 4ms/step - loss: 2153.3689 - mae: 2153.3689 - mse: 26823372.0000 - val_loss: 1746.4382 - val_mae: 1746.4382 - val_mse: 19502468.0000\n",
            "Epoch 430/500\n",
            "27/27 [==============================] - 0s 4ms/step - loss: 2151.6267 - mae: 2151.6267 - mse: 26815770.0000 - val_loss: 1741.4905 - val_mae: 1741.4905 - val_mse: 19504812.0000\n",
            "Epoch 431/500\n",
            "27/27 [==============================] - 0s 4ms/step - loss: 2149.3828 - mae: 2149.3828 - mse: 26805702.0000 - val_loss: 1744.4530 - val_mae: 1744.4530 - val_mse: 19455696.0000\n",
            "Epoch 432/500\n",
            "27/27 [==============================] - 0s 3ms/step - loss: 2148.0269 - mae: 2148.0269 - mse: 26792622.0000 - val_loss: 1737.0514 - val_mae: 1737.0514 - val_mse: 19482400.0000\n",
            "Epoch 433/500\n",
            "27/27 [==============================] - 0s 4ms/step - loss: 2146.9441 - mae: 2146.9441 - mse: 26815130.0000 - val_loss: 1734.8318 - val_mae: 1734.8318 - val_mse: 19451482.0000\n",
            "Epoch 434/500\n",
            "27/27 [==============================] - 0s 3ms/step - loss: 2146.8257 - mae: 2146.8257 - mse: 26814694.0000 - val_loss: 1732.4948 - val_mae: 1732.4948 - val_mse: 19472646.0000\n",
            "Epoch 435/500\n",
            "27/27 [==============================] - 0s 4ms/step - loss: 2143.8701 - mae: 2143.8701 - mse: 26788704.0000 - val_loss: 1732.2632 - val_mae: 1732.2632 - val_mse: 19442440.0000\n",
            "Epoch 436/500\n",
            "27/27 [==============================] - 0s 4ms/step - loss: 2144.2988 - mae: 2144.2988 - mse: 26774508.0000 - val_loss: 1731.2032 - val_mae: 1731.2032 - val_mse: 19459662.0000\n",
            "Epoch 437/500\n",
            "27/27 [==============================] - 0s 4ms/step - loss: 2142.3323 - mae: 2142.3323 - mse: 26792228.0000 - val_loss: 1729.4807 - val_mae: 1729.4807 - val_mse: 19428282.0000\n",
            "Epoch 438/500\n",
            "27/27 [==============================] - 0s 4ms/step - loss: 2140.6118 - mae: 2140.6118 - mse: 26800620.0000 - val_loss: 1732.1962 - val_mae: 1732.1962 - val_mse: 19396158.0000\n",
            "Epoch 439/500\n",
            "27/27 [==============================] - 0s 4ms/step - loss: 2139.5271 - mae: 2139.5271 - mse: 26747974.0000 - val_loss: 1724.6962 - val_mae: 1724.6962 - val_mse: 19414844.0000\n",
            "Epoch 440/500\n",
            "27/27 [==============================] - 0s 5ms/step - loss: 2138.4927 - mae: 2138.4927 - mse: 26795312.0000 - val_loss: 1725.5992 - val_mae: 1725.5992 - val_mse: 19401532.0000\n",
            "Epoch 441/500\n",
            "27/27 [==============================] - 0s 4ms/step - loss: 2137.1460 - mae: 2137.1460 - mse: 26762110.0000 - val_loss: 1721.4415 - val_mae: 1721.4415 - val_mse: 19383000.0000\n",
            "Epoch 442/500\n",
            "27/27 [==============================] - 0s 5ms/step - loss: 2135.7991 - mae: 2135.7991 - mse: 26771330.0000 - val_loss: 1720.4486 - val_mae: 1720.4486 - val_mse: 19369610.0000\n",
            "Epoch 443/500\n",
            "27/27 [==============================] - 0s 4ms/step - loss: 2136.3188 - mae: 2136.3188 - mse: 26789072.0000 - val_loss: 1719.0883 - val_mae: 1719.0883 - val_mse: 19398698.0000\n",
            "Epoch 444/500\n",
            "27/27 [==============================] - 0s 4ms/step - loss: 2136.3250 - mae: 2136.3250 - mse: 26767258.0000 - val_loss: 1722.9556 - val_mae: 1722.9556 - val_mse: 19340222.0000\n",
            "Epoch 445/500\n",
            "27/27 [==============================] - 0s 4ms/step - loss: 2134.2727 - mae: 2134.2727 - mse: 26742306.0000 - val_loss: 1720.3514 - val_mae: 1720.3514 - val_mse: 19357564.0000\n",
            "Epoch 446/500\n",
            "27/27 [==============================] - 0s 4ms/step - loss: 2130.5481 - mae: 2130.5481 - mse: 26736212.0000 - val_loss: 1717.5903 - val_mae: 1717.5903 - val_mse: 19338234.0000\n",
            "Epoch 447/500\n",
            "27/27 [==============================] - 0s 4ms/step - loss: 2131.5725 - mae: 2131.5725 - mse: 26746174.0000 - val_loss: 1715.7202 - val_mae: 1715.7202 - val_mse: 19338716.0000\n",
            "Epoch 448/500\n",
            "27/27 [==============================] - 0s 5ms/step - loss: 2131.8203 - mae: 2131.8203 - mse: 26725204.0000 - val_loss: 1713.9896 - val_mae: 1713.9896 - val_mse: 19284530.0000\n",
            "Epoch 449/500\n",
            "27/27 [==============================] - 0s 4ms/step - loss: 2128.8740 - mae: 2128.8740 - mse: 26747036.0000 - val_loss: 1709.6925 - val_mae: 1709.6925 - val_mse: 19338986.0000\n",
            "Epoch 450/500\n",
            "27/27 [==============================] - 0s 5ms/step - loss: 2127.7678 - mae: 2127.7678 - mse: 26734296.0000 - val_loss: 1706.9675 - val_mae: 1706.9675 - val_mse: 19336490.0000\n",
            "Epoch 451/500\n",
            "27/27 [==============================] - 0s 4ms/step - loss: 2129.9180 - mae: 2129.9180 - mse: 26752390.0000 - val_loss: 1706.2275 - val_mae: 1706.2275 - val_mse: 19289418.0000\n",
            "Epoch 452/500\n",
            "27/27 [==============================] - 0s 4ms/step - loss: 2125.0391 - mae: 2125.0391 - mse: 26721910.0000 - val_loss: 1706.2677 - val_mae: 1706.2677 - val_mse: 19267904.0000\n",
            "Epoch 453/500\n",
            "27/27 [==============================] - 0s 4ms/step - loss: 2125.0293 - mae: 2125.0293 - mse: 26696232.0000 - val_loss: 1706.4380 - val_mae: 1706.4380 - val_mse: 19253256.0000\n",
            "Epoch 454/500\n",
            "27/27 [==============================] - 0s 4ms/step - loss: 2124.4424 - mae: 2124.4424 - mse: 26740396.0000 - val_loss: 1706.1735 - val_mae: 1706.1735 - val_mse: 19284486.0000\n",
            "Epoch 455/500\n",
            "27/27 [==============================] - 0s 5ms/step - loss: 2124.2920 - mae: 2124.2920 - mse: 26707308.0000 - val_loss: 1700.3699 - val_mae: 1700.3699 - val_mse: 19285134.0000\n",
            "Epoch 456/500\n",
            "27/27 [==============================] - 0s 4ms/step - loss: 2125.1306 - mae: 2125.1306 - mse: 26750102.0000 - val_loss: 1704.8046 - val_mae: 1704.8046 - val_mse: 19266516.0000\n",
            "Epoch 457/500\n",
            "27/27 [==============================] - 0s 4ms/step - loss: 2121.8916 - mae: 2121.8916 - mse: 26711312.0000 - val_loss: 1706.0088 - val_mae: 1706.0088 - val_mse: 19250406.0000\n",
            "Epoch 458/500\n",
            "27/27 [==============================] - 0s 4ms/step - loss: 2120.6975 - mae: 2120.6975 - mse: 26689234.0000 - val_loss: 1698.8057 - val_mae: 1698.8057 - val_mse: 19258562.0000\n",
            "Epoch 459/500\n",
            "27/27 [==============================] - 0s 4ms/step - loss: 2120.6711 - mae: 2120.6711 - mse: 26687032.0000 - val_loss: 1698.3149 - val_mae: 1698.3149 - val_mse: 19275448.0000\n",
            "Epoch 460/500\n",
            "27/27 [==============================] - 0s 4ms/step - loss: 2119.2930 - mae: 2119.2930 - mse: 26729036.0000 - val_loss: 1696.0590 - val_mae: 1696.0590 - val_mse: 19254182.0000\n",
            "Epoch 461/500\n",
            "27/27 [==============================] - 0s 5ms/step - loss: 2118.0603 - mae: 2118.0603 - mse: 26675616.0000 - val_loss: 1699.4563 - val_mae: 1699.4563 - val_mse: 19249252.0000\n",
            "Epoch 462/500\n",
            "27/27 [==============================] - 0s 4ms/step - loss: 2117.5981 - mae: 2117.5981 - mse: 26682536.0000 - val_loss: 1697.7307 - val_mae: 1697.7307 - val_mse: 19231052.0000\n",
            "Epoch 463/500\n",
            "27/27 [==============================] - 0s 4ms/step - loss: 2118.4678 - mae: 2118.4678 - mse: 26687614.0000 - val_loss: 1697.2830 - val_mae: 1697.2830 - val_mse: 19249422.0000\n",
            "Epoch 464/500\n",
            "27/27 [==============================] - 0s 5ms/step - loss: 2117.1799 - mae: 2117.1799 - mse: 26671678.0000 - val_loss: 1694.2754 - val_mae: 1694.2754 - val_mse: 19260662.0000\n",
            "Epoch 465/500\n",
            "27/27 [==============================] - 0s 4ms/step - loss: 2115.7415 - mae: 2115.7415 - mse: 26677594.0000 - val_loss: 1692.5233 - val_mae: 1692.5233 - val_mse: 19228174.0000\n",
            "Epoch 466/500\n",
            "27/27 [==============================] - 0s 5ms/step - loss: 2115.4492 - mae: 2115.4492 - mse: 26636456.0000 - val_loss: 1693.4828 - val_mae: 1693.4828 - val_mse: 19206384.0000\n",
            "Epoch 467/500\n",
            "27/27 [==============================] - 0s 4ms/step - loss: 2113.5188 - mae: 2113.5188 - mse: 26656862.0000 - val_loss: 1688.9757 - val_mae: 1688.9757 - val_mse: 19200522.0000\n",
            "Epoch 468/500\n",
            "27/27 [==============================] - 0s 4ms/step - loss: 2115.1978 - mae: 2115.1978 - mse: 26671004.0000 - val_loss: 1691.9042 - val_mae: 1691.9042 - val_mse: 19238640.0000\n",
            "Epoch 469/500\n",
            "27/27 [==============================] - 0s 4ms/step - loss: 2114.4080 - mae: 2114.4080 - mse: 26654030.0000 - val_loss: 1686.1041 - val_mae: 1686.1041 - val_mse: 19256174.0000\n",
            "Epoch 470/500\n",
            "27/27 [==============================] - 0s 4ms/step - loss: 2111.0920 - mae: 2111.0920 - mse: 26622606.0000 - val_loss: 1689.1182 - val_mae: 1689.1182 - val_mse: 19180870.0000\n",
            "Epoch 471/500\n",
            "27/27 [==============================] - 0s 4ms/step - loss: 2111.8164 - mae: 2111.8164 - mse: 26648152.0000 - val_loss: 1690.9563 - val_mae: 1690.9563 - val_mse: 19197606.0000\n",
            "Epoch 472/500\n",
            "27/27 [==============================] - 0s 4ms/step - loss: 2111.8101 - mae: 2111.8101 - mse: 26636680.0000 - val_loss: 1686.8281 - val_mae: 1686.8281 - val_mse: 19201582.0000\n",
            "Epoch 473/500\n",
            "27/27 [==============================] - 0s 4ms/step - loss: 2111.0596 - mae: 2111.0596 - mse: 26643168.0000 - val_loss: 1684.8055 - val_mae: 1684.8055 - val_mse: 19197558.0000\n",
            "Epoch 474/500\n",
            "27/27 [==============================] - 0s 4ms/step - loss: 2110.6775 - mae: 2110.6775 - mse: 26652882.0000 - val_loss: 1690.0387 - val_mae: 1690.0387 - val_mse: 19138458.0000\n",
            "Epoch 475/500\n",
            "27/27 [==============================] - 0s 4ms/step - loss: 2110.1331 - mae: 2110.1331 - mse: 26633520.0000 - val_loss: 1686.2097 - val_mae: 1686.2096 - val_mse: 19187294.0000\n",
            "Epoch 476/500\n",
            "27/27 [==============================] - 0s 4ms/step - loss: 2107.9707 - mae: 2107.9707 - mse: 26617980.0000 - val_loss: 1683.0266 - val_mae: 1683.0266 - val_mse: 19187150.0000\n",
            "Epoch 477/500\n",
            "27/27 [==============================] - 0s 4ms/step - loss: 2106.6768 - mae: 2106.6768 - mse: 26622780.0000 - val_loss: 1681.3663 - val_mae: 1681.3663 - val_mse: 19179286.0000\n",
            "Epoch 478/500\n",
            "27/27 [==============================] - 0s 3ms/step - loss: 2107.1157 - mae: 2107.1157 - mse: 26632970.0000 - val_loss: 1681.5819 - val_mae: 1681.5819 - val_mse: 19226670.0000\n",
            "Epoch 479/500\n",
            "27/27 [==============================] - 0s 4ms/step - loss: 2107.1665 - mae: 2107.1665 - mse: 26626882.0000 - val_loss: 1680.0961 - val_mae: 1680.0961 - val_mse: 19194926.0000\n",
            "Epoch 480/500\n",
            "27/27 [==============================] - 0s 4ms/step - loss: 2107.9587 - mae: 2107.9587 - mse: 26647078.0000 - val_loss: 1678.9548 - val_mae: 1678.9548 - val_mse: 19216492.0000\n",
            "Epoch 481/500\n",
            "27/27 [==============================] - 0s 4ms/step - loss: 2106.3704 - mae: 2106.3704 - mse: 26630562.0000 - val_loss: 1681.5454 - val_mae: 1681.5454 - val_mse: 19164864.0000\n",
            "Epoch 482/500\n",
            "27/27 [==============================] - 0s 4ms/step - loss: 2106.9446 - mae: 2106.9446 - mse: 26610532.0000 - val_loss: 1679.9309 - val_mae: 1679.9309 - val_mse: 19146220.0000\n",
            "Epoch 483/500\n",
            "27/27 [==============================] - 0s 4ms/step - loss: 2105.0344 - mae: 2105.0344 - mse: 26616868.0000 - val_loss: 1680.1948 - val_mae: 1680.1948 - val_mse: 19155270.0000\n",
            "Epoch 484/500\n",
            "27/27 [==============================] - 0s 4ms/step - loss: 2105.1702 - mae: 2105.1702 - mse: 26609358.0000 - val_loss: 1676.8149 - val_mae: 1676.8149 - val_mse: 19175318.0000\n",
            "Epoch 485/500\n",
            "27/27 [==============================] - 0s 4ms/step - loss: 2103.5896 - mae: 2103.5896 - mse: 26598096.0000 - val_loss: 1676.5857 - val_mae: 1676.5857 - val_mse: 19136136.0000\n",
            "Epoch 486/500\n",
            "27/27 [==============================] - 0s 4ms/step - loss: 2103.3601 - mae: 2103.3601 - mse: 26605112.0000 - val_loss: 1676.8168 - val_mae: 1676.8168 - val_mse: 19128446.0000\n",
            "Epoch 487/500\n",
            "27/27 [==============================] - 0s 4ms/step - loss: 2103.1475 - mae: 2103.1475 - mse: 26586016.0000 - val_loss: 1672.5909 - val_mae: 1672.5909 - val_mse: 19187822.0000\n",
            "Epoch 488/500\n",
            "27/27 [==============================] - 0s 3ms/step - loss: 2103.1465 - mae: 2103.1465 - mse: 26621424.0000 - val_loss: 1671.8654 - val_mae: 1671.8654 - val_mse: 19145434.0000\n",
            "Epoch 489/500\n",
            "27/27 [==============================] - 0s 5ms/step - loss: 2100.9170 - mae: 2100.9170 - mse: 26583286.0000 - val_loss: 1674.2900 - val_mae: 1674.2900 - val_mse: 19115808.0000\n",
            "Epoch 490/500\n",
            "27/27 [==============================] - 0s 5ms/step - loss: 2101.5835 - mae: 2101.5835 - mse: 26604406.0000 - val_loss: 1673.1548 - val_mae: 1673.1548 - val_mse: 19109990.0000\n",
            "Epoch 491/500\n",
            "27/27 [==============================] - 0s 4ms/step - loss: 2100.3889 - mae: 2100.3889 - mse: 26616342.0000 - val_loss: 1671.0609 - val_mae: 1671.0609 - val_mse: 19105842.0000\n",
            "Epoch 492/500\n",
            "27/27 [==============================] - 0s 5ms/step - loss: 2099.2495 - mae: 2099.2495 - mse: 26574600.0000 - val_loss: 1670.1431 - val_mae: 1670.1431 - val_mse: 19158544.0000\n",
            "Epoch 493/500\n",
            "27/27 [==============================] - 0s 5ms/step - loss: 2100.1750 - mae: 2100.1750 - mse: 26612302.0000 - val_loss: 1668.0684 - val_mae: 1668.0684 - val_mse: 19136636.0000\n",
            "Epoch 494/500\n",
            "27/27 [==============================] - 0s 4ms/step - loss: 2099.2593 - mae: 2099.2593 - mse: 26594708.0000 - val_loss: 1669.8383 - val_mae: 1669.8383 - val_mse: 19119166.0000\n",
            "Epoch 495/500\n",
            "27/27 [==============================] - 0s 4ms/step - loss: 2098.8018 - mae: 2098.8018 - mse: 26600024.0000 - val_loss: 1667.6743 - val_mae: 1667.6743 - val_mse: 19135172.0000\n",
            "Epoch 496/500\n",
            "27/27 [==============================] - 0s 4ms/step - loss: 2098.7344 - mae: 2098.7344 - mse: 26591610.0000 - val_loss: 1666.0001 - val_mae: 1666.0001 - val_mse: 19139178.0000\n",
            "Epoch 497/500\n",
            "27/27 [==============================] - 0s 4ms/step - loss: 2098.2524 - mae: 2098.2524 - mse: 26560550.0000 - val_loss: 1669.0818 - val_mae: 1669.0818 - val_mse: 19132892.0000\n",
            "Epoch 498/500\n",
            "27/27 [==============================] - 0s 4ms/step - loss: 2097.1248 - mae: 2097.1248 - mse: 26582992.0000 - val_loss: 1665.9298 - val_mae: 1665.9298 - val_mse: 19153106.0000\n",
            "Epoch 499/500\n",
            "27/27 [==============================] - 0s 4ms/step - loss: 2095.9631 - mae: 2095.9631 - mse: 26561256.0000 - val_loss: 1664.2388 - val_mae: 1664.2388 - val_mse: 19115442.0000\n",
            "Epoch 500/500\n",
            "27/27 [==============================] - 0s 4ms/step - loss: 2095.0483 - mae: 2095.0483 - mse: 26566336.0000 - val_loss: 1661.0183 - val_mae: 1661.0183 - val_mse: 19086084.0000\n"
          ]
        }
      ]
    },
    {
      "cell_type": "code",
      "source": [
        "model.summary()"
      ],
      "metadata": {
        "colab": {
          "base_uri": "https://localhost:8080/"
        },
        "id": "vZoDAimajiii",
        "outputId": "a312e849-c636-4973-e9c8-f07c337fe1cf"
      },
      "execution_count": 24,
      "outputs": [
        {
          "output_type": "stream",
          "name": "stdout",
          "text": [
            "Model: \"sequential\"\n",
            "_________________________________________________________________\n",
            " Layer (type)                Output Shape              Param #   \n",
            "=================================================================\n",
            " dense (Dense)               (None, 15)                105       \n",
            "                                                                 \n",
            " dense_1 (Dense)             (None, 15)                240       \n",
            "                                                                 \n",
            " dense_2 (Dense)             (None, 15)                240       \n",
            "                                                                 \n",
            " dense_3 (Dense)             (None, 1)                 16        \n",
            "                                                                 \n",
            "=================================================================\n",
            "Total params: 601\n",
            "Trainable params: 601\n",
            "Non-trainable params: 0\n",
            "_________________________________________________________________\n"
          ]
        }
      ]
    },
    {
      "cell_type": "code",
      "source": [
        "print(mdl_history.history.keys())"
      ],
      "metadata": {
        "colab": {
          "base_uri": "https://localhost:8080/"
        },
        "id": "Go4UlgDgjjbE",
        "outputId": "441fa72e-13fa-4de6-b4c9-1c237c5c4e2c"
      },
      "execution_count": 25,
      "outputs": [
        {
          "output_type": "stream",
          "name": "stdout",
          "text": [
            "dict_keys(['loss', 'mae', 'mse', 'val_loss', 'val_mae', 'val_mse'])\n"
          ]
        }
      ]
    },
    {
      "cell_type": "code",
      "source": [
        "def plot_loss(history):\n",
        "  plt.plot(history.history['loss'], label='loss')\n",
        "  plt.plot(history.history['val_loss'], label='val_loss')\n",
        "  #plt.ylim([0, 10])\n",
        "  plt.xlabel('Epoch')\n",
        "  plt.ylabel('Error [MPG]')\n",
        "  plt.legend()\n",
        "  plt.grid(True)"
      ],
      "metadata": {
        "id": "irbg3QaSjq0A"
      },
      "execution_count": 26,
      "outputs": []
    },
    {
      "cell_type": "code",
      "source": [
        "plot_loss(mdl_history)"
      ],
      "metadata": {
        "colab": {
          "base_uri": "https://localhost:8080/",
          "height": 279
        },
        "id": "CU4i2tz0kCVd",
        "outputId": "7d47c76d-2fa3-4f7a-b70b-0b3fe6626b40"
      },
      "execution_count": 27,
      "outputs": [
        {
          "output_type": "display_data",
          "data": {
            "image/png": "[encoded data removed]",
            "text/plain": [
              "<Figure size 432x288 with 1 Axes>"
            ]
          },
          "metadata": {
            "needs_background": "light"
          }
        }
      ]
    },
    {
      "cell_type": "code",
      "source": [
        "# predict the expenses\n",
        "prediction = model.predict(X_test)"
      ],
      "metadata": {
        "id": "PVYRlKm5euRp"
      },
      "execution_count": 28,
      "outputs": []
    },
    {
      "cell_type": "code",
      "source": [
        "test_dataset = X_test\n",
        "test_labels = y_test"
      ],
      "metadata": {
        "id": "IHT1cqytf349"
      },
      "execution_count": 29,
      "outputs": []
    },
    {
      "cell_type": "code",
      "metadata": {
        "id": "Xe7RXH3N3CWU",
        "colab": {
          "base_uri": "https://localhost:8080/",
          "height": 335
        },
        "outputId": "92b2cd62-6cfd-4ef2-a810-4e56061e9d44"
      },
      "source": [
        "# RUN THIS CELL TO TEST YOUR MODEL. DO NOT MODIFY CONTENTS.\n",
        "# Test model by checking how well the model generalizes using the test set.\n",
        "loss, mae, mse = model.evaluate(test_dataset, test_labels, verbose=2)\n",
        "\n",
        "print(\"Testing set Mean Abs Error: {:5.2f} expenses\".format(mae))\n",
        "\n",
        "if mae < 3500:\n",
        "  print(\"You passed the challenge. Great job!\")\n",
        "else:\n",
        "  print(\"The Mean Abs Error must be less than 3500. Keep trying.\")\n",
        "\n",
        "# Plot predictions.\n",
        "test_predictions = model.predict(test_dataset).flatten()\n",
        "\n",
        "a = plt.axes(aspect='equal')\n",
        "plt.scatter(test_labels, test_predictions)\n",
        "plt.xlabel('True values (expenses)')\n",
        "plt.ylabel('Predictions (expenses)')\n",
        "lims = [0, 50000]\n",
        "plt.xlim(lims)\n",
        "plt.ylim(lims)\n",
        "_ = plt.plot(lims,lims)\n"
      ],
      "execution_count": 30,
      "outputs": [
        {
          "output_type": "stream",
          "name": "stdout",
          "text": [
            "9/9 - 0s - loss: 1964.5092 - mae: 1964.5092 - mse: 19685878.0000 - 36ms/epoch - 4ms/step\n",
            "Testing set Mean Abs Error: 1964.51 expenses\n",
            "You passed the challenge. Great job!\n"
          ]
        },
        {
          "output_type": "display_data",
          "data": {
            "image/png": "[encoded data removed]",
            "text/plain": [
              "<Figure size 432x288 with 1 Axes>"
            ]
          },
          "metadata": {
            "needs_background": "light"
          }
        }
      ]
    }
  ]
}